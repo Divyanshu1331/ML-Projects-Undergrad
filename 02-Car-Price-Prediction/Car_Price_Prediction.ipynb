{
 "cells": [
  {
   "cell_type": "code",
   "execution_count": 1,
   "id": "ef79dace",
   "metadata": {},
   "outputs": [],
   "source": [
    "import pandas as pd\n",
    "import numpy as np\n",
    "import matplotlib.pyplot as plt\n",
    "from sklearn.model_selection import train_test_split\n",
    "from sklearn.linear_model import LinearRegression\n",
    "from sklearn.linear_model import Lasso\n",
    "from sklearn.tree import DecisionTreeRegressor\n",
    "from sklearn import metrics"
   ]
  },
  {
   "cell_type": "code",
   "execution_count": 18,
   "id": "333daa57",
   "metadata": {},
   "outputs": [
    {
     "name": "stdout",
     "output_type": "stream",
     "text": [
      "The Dataset is as: \n",
      "\n",
      "<class 'pandas.core.frame.DataFrame'>\n",
      "RangeIndex: 301 entries, 0 to 300\n",
      "Data columns (total 9 columns):\n",
      " #   Column         Non-Null Count  Dtype  \n",
      "---  ------         --------------  -----  \n",
      " 0   Car_Name       301 non-null    object \n",
      " 1   Year           301 non-null    int64  \n",
      " 2   Selling_Price  301 non-null    float64\n",
      " 3   Present_Price  301 non-null    float64\n",
      " 4   Kms_Driven     301 non-null    int64  \n",
      " 5   Fuel_Type      301 non-null    object \n",
      " 6   Seller_Type    301 non-null    object \n",
      " 7   Transmission   301 non-null    object \n",
      " 8   Owner          301 non-null    int64  \n",
      "dtypes: float64(2), int64(3), object(4)\n",
      "memory usage: 21.3+ KB\n",
      "None\n",
      "\n",
      "Top 5 entry in data set: \n",
      "\n",
      "  Car_Name  Year  Selling_Price  Present_Price  Kms_Driven Fuel_Type  \\\n",
      "0     ritz  2014           3.35           5.59       27000    Petrol   \n",
      "1      sx4  2013           4.75           9.54       43000    Diesel   \n",
      "2     ciaz  2017           7.25           9.85        6900    Petrol   \n",
      "3  wagon r  2011           2.85           4.15        5200    Petrol   \n",
      "4    swift  2014           4.60           6.87       42450    Diesel   \n",
      "\n",
      "  Seller_Type Transmission  Owner  \n",
      "0      Dealer       Manual      0  \n",
      "1      Dealer       Manual      0  \n",
      "2      Dealer       Manual      0  \n",
      "3      Dealer       Manual      0  \n",
      "4      Dealer       Manual      0  \n",
      "\n",
      "Top 3 entry in data set: \n",
      "\n",
      "  Car_Name  Year  Selling_Price  Present_Price  Kms_Driven Fuel_Type  \\\n",
      "0     ritz  2014           3.35           5.59       27000    Petrol   \n",
      "1      sx4  2013           4.75           9.54       43000    Diesel   \n",
      "2     ciaz  2017           7.25           9.85        6900    Petrol   \n",
      "\n",
      "  Seller_Type Transmission  Owner  \n",
      "0      Dealer       Manual      0  \n",
      "1      Dealer       Manual      0  \n",
      "2      Dealer       Manual      0  \n",
      "\n",
      "No. of rows and columns: \n",
      "\n",
      "(301, 9)\n",
      "\n",
      "To find the missing values we use this function: \n"
     ]
    },
    {
     "data": {
      "text/plain": [
       "Car_Name         0\n",
       "Year             0\n",
       "Selling_Price    0\n",
       "Present_Price    0\n",
       "Kms_Driven       0\n",
       "Fuel_Type        0\n",
       "Seller_Type      0\n",
       "Transmission     0\n",
       "Owner            0\n",
       "dtype: int64"
      ]
     },
     "execution_count": 18,
     "metadata": {},
     "output_type": "execute_result"
    }
   ],
   "source": [
    "# Importing DATA SET:\n",
    "\n",
    "data = pd.read_csv('car data.csv')\n",
    "print('The Dataset is as: \\n')\n",
    "print(data.info())\n",
    "print('\\nTop 5 entry in data set: \\n')\n",
    "print(data.head())\n",
    "print('\\nTop 3 entry in data set: \\n')\n",
    "print(data.head(3))\n",
    "print('\\nNo. of rows and columns: \\n')\n",
    "print(data.shape)                                   # We use .shape and NOT .shape() because data.shape is tuple not a function\n",
    "print('\\nTo find the missing values we use this function: ')\n",
    "data.isnull().sum()"
   ]
  },
  {
   "cell_type": "code",
   "execution_count": 3,
   "id": "e533ff76",
   "metadata": {},
   "outputs": [
    {
     "name": "stdout",
     "output_type": "stream",
     "text": [
      "Dealer        195\n",
      "Individual    106\n",
      "Name: Seller_Type, dtype: int64 \n",
      "\n",
      "Petrol    239\n",
      "Diesel     60\n",
      "CNG         2\n",
      "Name: Fuel_Type, dtype: int64 \n",
      "\n",
      "Manual       261\n",
      "Automatic     40\n",
      "Name: Transmission, dtype: int64 \n",
      "\n"
     ]
    }
   ],
   "source": [
    "# CHECKING THE DISTRIBUTION OF CATEGORICAL DATA IN COLUMN:\n",
    "\n",
    "# This is used to check different types of category in particular column, by using  .value_counts()\n",
    "\n",
    "print(data.Seller_Type.value_counts(), '\\n')\n",
    "print(data.Fuel_Type.value_counts(), '\\n')\n",
    "print(data.Transmission.value_counts(), '\\n')"
   ]
  },
  {
   "cell_type": "code",
   "execution_count": 4,
   "id": "23f3415d",
   "metadata": {},
   "outputs": [
    {
     "name": "stdout",
     "output_type": "stream",
     "text": [
      "  Car_Name  Year  Selling_Price  Present_Price  Kms_Driven  Fuel_Type  \\\n",
      "0     ritz  2014           3.35           5.59       27000          0   \n",
      "1      sx4  2013           4.75           9.54       43000          1   \n",
      "2     ciaz  2017           7.25           9.85        6900          0   \n",
      "3  wagon r  2011           2.85           4.15        5200          0   \n",
      "4    swift  2014           4.60           6.87       42450          1   \n",
      "\n",
      "   Seller_Type  Transmission  Owner  \n",
      "0            0             0      0  \n",
      "1            0             0      0  \n",
      "2            0             0      0  \n",
      "3            0             0      0  \n",
      "4            0             0      0  \n"
     ]
    }
   ],
   "source": [
    "# ENCODING THE CATAGORICAL DATA:\n",
    "\n",
    "# Models have problem dealing with text data so we convert text data into integer type so it can be deal with model\n",
    "\n",
    "# Encoding the Fuel_Type data\n",
    "data.replace({'Fuel_Type': {'Petrol':0, 'Diesel': 1, 'CNG': 2}}, inplace=True)\n",
    "\n",
    "# Encoding the Seller_Type data\n",
    "data.replace({'Seller_Type': {'Dealer':0, 'Individual': 1}}, inplace=True)\n",
    "\n",
    "# Encoding the Transmission data\n",
    "data.replace({'Transmission': {'Manual':0, 'Automatic': 1}}, inplace=True)\n",
    "\n",
    "#Printing the first 5 data to check if encoding happened or not\n",
    "print(data.head())"
   ]
  },
  {
   "cell_type": "code",
   "execution_count": 5,
   "id": "69da92cf",
   "metadata": {},
   "outputs": [
    {
     "name": "stdout",
     "output_type": "stream",
     "text": [
      "Input features are:\n",
      "      Year  Present_Price  Kms_Driven  Fuel_Type  Seller_Type  Transmission\n",
      "0    2014           5.59       27000          0            0             0\n",
      "1    2013           9.54       43000          1            0             0\n",
      "2    2017           9.85        6900          0            0             0\n",
      "3    2011           4.15        5200          0            0             0\n",
      "4    2014           6.87       42450          1            0             0\n",
      "..    ...            ...         ...        ...          ...           ...\n",
      "296  2016          11.60       33988          1            0             0\n",
      "297  2015           5.90       60000          0            0             0\n",
      "298  2009          11.00       87934          0            0             0\n",
      "299  2017          12.50        9000          1            0             0\n",
      "300  2016           5.90        5464          0            0             0\n",
      "\n",
      "[301 rows x 6 columns]\n",
      "Output is:\n",
      " 0       3.35\n",
      "1       4.75\n",
      "2       7.25\n",
      "3       2.85\n",
      "4       4.60\n",
      "       ...  \n",
      "296     9.50\n",
      "297     4.00\n",
      "298     3.35\n",
      "299    11.50\n",
      "300     5.30\n",
      "Name: Selling_Price, Length: 301, dtype: float64\n"
     ]
    }
   ],
   "source": [
    "# DEFINING i/p AND o/p OF DATASET:\n",
    "\n",
    "# Input \n",
    "x = data.drop(['Car_Name', 'Selling_Price', 'Owner'], axis=1)\n",
    "# Output\n",
    "y = data['Selling_Price']\n",
    "\n",
    "print('Input features are:\\n', x)\n",
    "print('Output is:\\n', y)"
   ]
  },
  {
   "cell_type": "code",
   "execution_count": 6,
   "id": "bcb19c9b",
   "metadata": {},
   "outputs": [],
   "source": [
    "# SPLITTING THE DATASET IN TRAINING AND TESTING:\n",
    "\n",
    "X_train, X_test, Y_train, Y_test = train_test_split(x, y, test_size=0.1, random_state=2)\n",
    "# Here test_size=0.1 means that test data is 10% of total data\n",
    "# And random_state is used to set a seed for random number generation, ensuring that the split is reproducible.\n",
    "# Using a fixed random_state value means that the data will always be split in the same way, allowing consistent results\n",
    "# across different runs."
   ]
  },
  {
   "cell_type": "code",
   "execution_count": 7,
   "id": "2b32d484",
   "metadata": {},
   "outputs": [
    {
     "data": {
      "text/plain": [
       "LinearRegression()"
      ]
     },
     "execution_count": 7,
     "metadata": {},
     "output_type": "execute_result"
    }
   ],
   "source": [
    "# CREATING LINEAR REGRESSION MODEL:\n",
    "\n",
    "# This initializes an instance of the LinearRegression model from scikit-learn.\n",
    "# The LinearRegression() class implements the ordinary least squares method, which finds the line (or hyperplane in \n",
    "# higher dimensions) that best fits the data.\n",
    "# lin_model is now a linear regression model object that can be trained using the training data.\n",
    "lin_model = LinearRegression()\n",
    "\n",
    "# The fit() method computes the best-fitting linear relationship between X_train and Y_train by learning the model's \n",
    "# coefficients (slope and intercept).\n",
    "lin_model.fit(X_train, Y_train)"
   ]
  },
  {
   "cell_type": "code",
   "execution_count": 8,
   "id": "5e7d9da4",
   "metadata": {},
   "outputs": [
    {
     "name": "stdout",
     "output_type": "stream",
     "text": [
      "Predicted values are:\n",
      " [10.26768234  0.70882202  4.25549078  4.77808552  9.84505253  4.23999194\n",
      "  6.91700412  7.30834045  0.14683253  5.1849117   6.23351899  6.08520808\n",
      "  2.08156915  7.76422902  1.86308339  1.75484073  2.06902894  1.88916219\n",
      "  9.25448213  4.25603622  1.50428682  9.04293808  1.48464832  9.62479892\n",
      "  0.8336489   8.00332354  1.55771164 -2.43984811  4.26342611  2.09040833\n",
      "  3.43843883]\n",
      "\n",
      "Real values are:\n",
      " 99      9.65\n",
      "161     0.45\n",
      "89      4.75\n",
      "30      3.10\n",
      "232    11.45\n",
      "290     4.50\n",
      "35      2.95\n",
      "7       6.50\n",
      "183     0.27\n",
      "13      6.10\n",
      "269     6.70\n",
      "65      4.75\n",
      "178     0.35\n",
      "258     8.40\n",
      "227     2.55\n",
      "133     0.72\n",
      "130     0.75\n",
      "156     0.48\n",
      "237    11.25\n",
      "262     4.00\n",
      "112     1.15\n",
      "282     8.25\n",
      "164     0.45\n",
      "275    10.90\n",
      "154     0.50\n",
      "29      7.45\n",
      "141     0.60\n",
      "192     0.20\n",
      "216     2.90\n",
      "3       2.85\n",
      "159     0.45\n",
      "Name: Selling_Price, dtype: float64\n"
     ]
    }
   ],
   "source": [
    "# PREDICTING THE TEST VALUES AND THEN COMPARING WITH THE ORIGINAL DATA VALUE(Y_test)\n",
    "\n",
    "Y_pred = lin_model.predict(X_test)\n",
    "# The predict() method uses the trained model (which has already learned the relationship between the features and the target \n",
    "# variable) to predict the target values for the given input data.\n",
    "\n",
    "# Printing original output values(Y_test) and predicted output values\n",
    "print('Predicted values are:\\n', Y_pred)\n",
    "print('\\nReal values are:\\n', Y_test)\n",
    "# In real values the right column is telling the output data\n"
   ]
  },
  {
   "cell_type": "code",
   "execution_count": 9,
   "id": "85d7b7cc",
   "metadata": {},
   "outputs": [
    {
     "name": "stdout",
     "output_type": "stream",
     "text": [
      "R squared error for linear model:  0.8498617573093811\n",
      "\n",
      "Mean Absolute Error for linear model:  1.1177822544855511\n"
     ]
    }
   ],
   "source": [
    "# MODEL EVALUATION:\n",
    "\n",
    "error = metrics.r2_score(Y_test, Y_pred)\n",
    "print('R squared error for linear model: ', error)\n",
    "\n",
    "MAE = metrics.mean_absolute_error(Y_test, Y_pred)\n",
    "print('\\nMean Absolute Error for linear model: ', MAE)"
   ]
  },
  {
   "cell_type": "code",
   "execution_count": 10,
   "id": "a7ab1e58",
   "metadata": {},
   "outputs": [
    {
     "data": {
      "text/plain": [
       "Lasso()"
      ]
     },
     "execution_count": 10,
     "metadata": {},
     "output_type": "execute_result"
    }
   ],
   "source": [
    "# 2nd MODEL USING LASSO REGRESSION:\n",
    "\n",
    "las_model = Lasso()\n",
    "\n",
    "# .fit() function is used to train a machine learning model in most machine learning libraries, including scikit-learn.\n",
    "# The fit() function learns the relationships between the features (input data) and the target (output) by adjusting the \n",
    "# model’s internal parameters.\n",
    "las_model.fit(X_train, Y_train)"
   ]
  },
  {
   "cell_type": "code",
   "execution_count": 11,
   "id": "549ba632",
   "metadata": {},
   "outputs": [
    {
     "name": "stdout",
     "output_type": "stream",
     "text": [
      "Predicted values by Lasso:\n",
      " [ 9.87888122  1.42396266  4.33267834  3.17313445  8.95590579  4.29397384\n",
      "  3.73913632  5.66283974  0.91478394  5.25514316  6.47238818  4.39507335\n",
      "  1.2955156   8.26559961  2.00292338  2.32529219  2.55349653  2.34742172\n",
      "  7.96895166  4.18441245  2.3369918   7.86598537  2.02308236  8.56734786\n",
      "  1.55498136  6.48561097  2.11427451 -1.18422036  4.01710445  2.21749695\n",
      "  2.41820898]\n",
      "Original values:\n",
      " 99      9.65\n",
      "161     0.45\n",
      "89      4.75\n",
      "30      3.10\n",
      "232    11.45\n",
      "290     4.50\n",
      "35      2.95\n",
      "7       6.50\n",
      "183     0.27\n",
      "13      6.10\n",
      "269     6.70\n",
      "65      4.75\n",
      "178     0.35\n",
      "258     8.40\n",
      "227     2.55\n",
      "133     0.72\n",
      "130     0.75\n",
      "156     0.48\n",
      "237    11.25\n",
      "262     4.00\n",
      "112     1.15\n",
      "282     8.25\n",
      "164     0.45\n",
      "275    10.90\n",
      "154     0.50\n",
      "29      7.45\n",
      "141     0.60\n",
      "192     0.20\n",
      "216     2.90\n",
      "3       2.85\n",
      "159     0.45\n",
      "Name: Selling_Price, dtype: float64\n"
     ]
    }
   ],
   "source": [
    "# PREDICTING VALUES THROUGH LASSO REGRESSION:\n",
    "\n",
    "Y_pred2 = las_model.predict(X_test)\n",
    "print('Predicted values by Lasso:\\n',Y_pred2)\n",
    "print('Original values:\\n', Y_test)"
   ]
  },
  {
   "cell_type": "code",
   "execution_count": 12,
   "id": "842477b0",
   "metadata": {},
   "outputs": [
    {
     "name": "stdout",
     "output_type": "stream",
     "text": [
      "R squared error is for lasso model:  0.8709167941173195\n",
      "\n",
      "Mean Absolute Error for lasso model:  1.0507413774170433\n"
     ]
    }
   ],
   "source": [
    "# LASSO MODEL EVALUTION:\n",
    "\n",
    "error = metrics.r2_score(Y_test, Y_pred2)\n",
    "print('R squared error is for lasso model: ', error)\n",
    "\n",
    "MAE = metrics.mean_absolute_error(Y_test, Y_pred2)\n",
    "print('\\nMean Absolute Error for lasso model: ', MAE)"
   ]
  },
  {
   "cell_type": "code",
   "execution_count": 13,
   "id": "59bb4718",
   "metadata": {},
   "outputs": [
    {
     "data": {
      "text/plain": [
       "DecisionTreeRegressor()"
      ]
     },
     "execution_count": 13,
     "metadata": {},
     "output_type": "execute_result"
    }
   ],
   "source": [
    "# DECISION TREE REGRESSOR MODEL:\n",
    "\n",
    "tree_model = DecisionTreeRegressor()\n",
    "tree_model.fit(X_train, Y_train)"
   ]
  },
  {
   "cell_type": "code",
   "execution_count": 14,
   "id": "6ac02a77",
   "metadata": {},
   "outputs": [
    {
     "name": "stdout",
     "output_type": "stream",
     "text": [
      "Predicted values:\n",
      " [ 9.25  0.75  4.    3.1   9.7   5.3   2.65  7.45  0.25  5.8   7.5   4.6\n",
      "  0.25  8.65  2.95  0.9   0.65  0.48 11.75  4.15  1.35 11.75  0.48  9.15\n",
      "  0.48  6.85  0.6   0.12  3.1   3.    0.48]\n",
      "Actual values:\n",
      " 99      9.65\n",
      "161     0.45\n",
      "89      4.75\n",
      "30      3.10\n",
      "232    11.45\n",
      "290     4.50\n",
      "35      2.95\n",
      "7       6.50\n",
      "183     0.27\n",
      "13      6.10\n",
      "269     6.70\n",
      "65      4.75\n",
      "178     0.35\n",
      "258     8.40\n",
      "227     2.55\n",
      "133     0.72\n",
      "130     0.75\n",
      "156     0.48\n",
      "237    11.25\n",
      "262     4.00\n",
      "112     1.15\n",
      "282     8.25\n",
      "164     0.45\n",
      "275    10.90\n",
      "154     0.50\n",
      "29      7.45\n",
      "141     0.60\n",
      "192     0.20\n",
      "216     2.90\n",
      "3       2.85\n",
      "159     0.45\n",
      "Name: Selling_Price, dtype: float64\n"
     ]
    }
   ],
   "source": [
    "# PREDICTING VALUES THROUGH DECISION TREE REGRESSOR:\n",
    "\n",
    "Y_pred3 = tree_model.predict(X_test)\n",
    "print('Predicted values:\\n', Y_pred3)\n",
    "print('Actual values:\\n', Y_test)"
   ]
  },
  {
   "cell_type": "code",
   "execution_count": 15,
   "id": "10f03405",
   "metadata": {},
   "outputs": [
    {
     "name": "stdout",
     "output_type": "stream",
     "text": [
      "R squared error for Decision Tree is:  0.9446100720012577\n",
      "\n",
      "Mean absolute error for Decision Tree is:  0.4761290322580646\n"
     ]
    }
   ],
   "source": [
    "# DECISION TREE MODEL EVALUATOIN:\n",
    "\n",
    "error = metrics.r2_score(Y_test, Y_pred3)\n",
    "MAE = metrics.mean_absolute_error(Y_test, Y_pred3)\n",
    "\n",
    "print('R squared error for Decision Tree is: ', error)\n",
    "print('\\nMean absolute error for Decision Tree is: ', MAE)"
   ]
  },
  {
   "cell_type": "code",
   "execution_count": 16,
   "id": "8bb184ca",
   "metadata": {},
   "outputs": [
    {
     "data": {
      "image/png": "[encoded data removed]",
      "text/plain": [
       "<Figure size 432x288 with 1 Axes>"
      ]
     },
     "metadata": {
      "needs_background": "light"
     },
     "output_type": "display_data"
    },
    {
     "data": {
      "image/png": "[encoded data removed]",
      "text/plain": [
       "<Figure size 432x288 with 1 Axes>"
      ]
     },
     "metadata": {
      "needs_background": "light"
     },
     "output_type": "display_data"
    },
    {
     "data": {
      "image/png": "[encoded data removed]",
      "text/plain": [
       "<Figure size 432x288 with 1 Axes>"
      ]
     },
     "metadata": {
      "needs_background": "light"
     },
     "output_type": "display_data"
    }
   ],
   "source": [
    "# MODEL PERFORMANCE VISUALISATION OF THE MODELS:\n",
    "\n",
    "plt.scatter(Y_test, Y_pred)\n",
    "plt.xlabel('Actual Price')\n",
    "plt.ylabel('Predicted Price')\n",
    "plt.title('Linear Regressor Model')\n",
    "plt.show()\n",
    "\n",
    "plt.scatter(Y_test, Y_pred2)\n",
    "plt.xlabel('Actual Price')\n",
    "plt.ylabel('Predicted Price')\n",
    "plt.title('Lasso Regressor Model')\n",
    "plt.show()\n",
    "\n",
    "plt.scatter(Y_test, Y_pred3)\n",
    "plt.xlabel('Actual Price')\n",
    "plt.ylabel('Predicted Price')\n",
    "plt.title('Decision Tree Regressor Model')\n",
    "plt.show()"
   ]
  },
  {
   "cell_type": "code",
   "execution_count": 17,
   "id": "ee714897",
   "metadata": {},
   "outputs": [
    {
     "name": "stdout",
     "output_type": "stream",
     "text": [
      "Predicted selling price for the new car is: 5.8\n"
     ]
    },
    {
     "name": "stderr",
     "output_type": "stream",
     "text": [
      "D:\\Anaconda\\lib\\site-packages\\sklearn\\base.py:450: UserWarning: X does not have valid feature names, but DecisionTreeRegressor was fitted with feature names\n",
      "  warnings.warn(\n"
     ]
    }
   ],
   "source": [
    "# PREDICTING CAR PRICE FOR NEW DATAPOINT:\n",
    "\n",
    "# New car data (7 features, same order as the training data)\n",
    "new_car_data = np.array([[2015, 7.5, 25000, 0, 1, 0]])\n",
    "\n",
    "# Predicting the selling price using the trained model\n",
    "predicted_price = tree_model.predict(new_car_data)\n",
    "\n",
    "print(f\"Predicted selling price for the new car is: {predicted_price[0]}\")"
   ]
  }
 ],
 "metadata": {
  "kernelspec": {
   "display_name": "Python 3 (ipykernel)",
   "language": "python",
   "name": "python3"
  },
  "language_info": {
   "codemirror_mode": {
    "name": "ipython",
    "version": 3
   },
   "file_extension": ".py",
   "mimetype": "text/x-python",
   "name": "python",
   "nbconvert_exporter": "python",
   "pygments_lexer": "ipython3",
   "version": "3.12.7"
  }
 },
 "nbformat": 4,
 "nbformat_minor": 5
}
