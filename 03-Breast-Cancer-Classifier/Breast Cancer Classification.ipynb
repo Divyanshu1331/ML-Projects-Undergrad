{
 "cells": [
  {
   "cell_type": "code",
   "execution_count": 1,
   "id": "8f3b40cd",
   "metadata": {},
   "outputs": [],
   "source": [
    "import numpy as np\n",
    "import pandas as pd\n",
    "import matplotlib.pyplot as plt \n",
    "import sklearn.datasets\n",
    "from sklearn.model_selection import train_test_split"
   ]
  },
  {
   "cell_type": "code",
   "execution_count": 2,
   "id": "51153a4a",
   "metadata": {},
   "outputs": [
    {
     "name": "stdout",
     "output_type": "stream",
     "text": [
      "{'data': array([[1.799e+01, 1.038e+01, 1.228e+02, ..., 2.654e-01, 4.601e-01,\n",
      "        1.189e-01],\n",
      "       [2.057e+01, 1.777e+01, 1.329e+02, ..., 1.860e-01, 2.750e-01,\n",
      "        8.902e-02],\n",
      "       [1.969e+01, 2.125e+01, 1.300e+02, ..., 2.430e-01, 3.613e-01,\n",
      "        8.758e-02],\n",
      "       ...,\n",
      "       [1.660e+01, 2.808e+01, 1.083e+02, ..., 1.418e-01, 2.218e-01,\n",
      "        7.820e-02],\n",
      "       [2.060e+01, 2.933e+01, 1.401e+02, ..., 2.650e-01, 4.087e-01,\n",
      "        1.240e-01],\n",
      "       [7.760e+00, 2.454e+01, 4.792e+01, ..., 0.000e+00, 2.871e-01,\n",
      "        7.039e-02]]), 'target': array([0, 0, 0, 0, 0, 0, 0, 0, 0, 0, 0, 0, 0, 0, 0, 0, 0, 0, 0, 1, 1, 1,\n",
      "       0, 0, 0, 0, 0, 0, 0, 0, 0, 0, 0, 0, 0, 0, 0, 1, 0, 0, 0, 0, 0, 0,\n",
      "       0, 0, 1, 0, 1, 1, 1, 1, 1, 0, 0, 1, 0, 0, 1, 1, 1, 1, 0, 1, 0, 0,\n",
      "       1, 1, 1, 1, 0, 1, 0, 0, 1, 0, 1, 0, 0, 1, 1, 1, 0, 0, 1, 0, 0, 0,\n",
      "       1, 1, 1, 0, 1, 1, 0, 0, 1, 1, 1, 0, 0, 1, 1, 1, 1, 0, 1, 1, 0, 1,\n",
      "       1, 1, 1, 1, 1, 1, 1, 0, 0, 0, 1, 0, 0, 1, 1, 1, 0, 0, 1, 0, 1, 0,\n",
      "       0, 1, 0, 0, 1, 1, 0, 1, 1, 0, 1, 1, 1, 1, 0, 1, 1, 1, 1, 1, 1, 1,\n",
      "       1, 1, 0, 1, 1, 1, 1, 0, 0, 1, 0, 1, 1, 0, 0, 1, 1, 0, 0, 1, 1, 1,\n",
      "       1, 0, 1, 1, 0, 0, 0, 1, 0, 1, 0, 1, 1, 1, 0, 1, 1, 0, 0, 1, 0, 0,\n",
      "       0, 0, 1, 0, 0, 0, 1, 0, 1, 0, 1, 1, 0, 1, 0, 0, 0, 0, 1, 1, 0, 0,\n",
      "       1, 1, 1, 0, 1, 1, 1, 1, 1, 0, 0, 1, 1, 0, 1, 1, 0, 0, 1, 0, 1, 1,\n",
      "       1, 1, 0, 1, 1, 1, 1, 1, 0, 1, 0, 0, 0, 0, 0, 0, 0, 0, 0, 0, 0, 0,\n",
      "       0, 0, 1, 1, 1, 1, 1, 1, 0, 1, 0, 1, 1, 0, 1, 1, 0, 1, 0, 0, 1, 1,\n",
      "       1, 1, 1, 1, 1, 1, 1, 1, 1, 1, 1, 0, 1, 1, 0, 1, 0, 1, 1, 1, 1, 1,\n",
      "       1, 1, 1, 1, 1, 1, 1, 1, 1, 0, 1, 1, 1, 0, 1, 0, 1, 1, 1, 1, 0, 0,\n",
      "       0, 1, 1, 1, 1, 0, 1, 0, 1, 0, 1, 1, 1, 0, 1, 1, 1, 1, 1, 1, 1, 0,\n",
      "       0, 0, 1, 1, 1, 1, 1, 1, 1, 1, 1, 1, 1, 0, 0, 1, 0, 0, 0, 1, 0, 0,\n",
      "       1, 1, 1, 1, 1, 0, 1, 1, 1, 1, 1, 0, 1, 1, 1, 0, 1, 1, 0, 0, 1, 1,\n",
      "       1, 1, 1, 1, 0, 1, 1, 1, 1, 1, 1, 1, 0, 1, 1, 1, 1, 1, 0, 1, 1, 0,\n",
      "       1, 1, 1, 1, 1, 1, 1, 1, 1, 1, 1, 1, 0, 1, 0, 0, 1, 0, 1, 1, 1, 1,\n",
      "       1, 0, 1, 1, 0, 1, 0, 1, 1, 0, 1, 0, 1, 1, 1, 1, 1, 1, 1, 1, 0, 0,\n",
      "       1, 1, 1, 1, 1, 1, 0, 1, 1, 1, 1, 1, 1, 1, 1, 1, 1, 0, 1, 1, 1, 1,\n",
      "       1, 1, 1, 0, 1, 0, 1, 1, 0, 1, 1, 1, 1, 1, 0, 0, 1, 0, 1, 0, 1, 1,\n",
      "       1, 1, 1, 0, 1, 1, 0, 1, 0, 1, 0, 0, 1, 1, 1, 0, 1, 1, 1, 1, 1, 1,\n",
      "       1, 1, 1, 1, 1, 0, 1, 0, 0, 1, 1, 1, 1, 1, 1, 1, 1, 1, 1, 1, 1, 1,\n",
      "       1, 1, 1, 1, 1, 1, 1, 1, 1, 1, 1, 1, 0, 0, 0, 0, 0, 0, 1]), 'frame': None, 'target_names': array(['malignant', 'benign'], dtype='<U9'), 'DESCR': '.. _breast_cancer_dataset:\\n\\nBreast cancer wisconsin (diagnostic) dataset\\n--------------------------------------------\\n\\n**Data Set Characteristics:**\\n\\n:Number of Instances: 569\\n\\n:Number of Attributes: 30 numeric, predictive attributes and the class\\n\\n:Attribute Information:\\n    - radius (mean of distances from center to points on the perimeter)\\n    - texture (standard deviation of gray-scale values)\\n    - perimeter\\n    - area\\n    - smoothness (local variation in radius lengths)\\n    - compactness (perimeter^2 / area - 1.0)\\n    - concavity (severity of concave portions of the contour)\\n    - concave points (number of concave portions of the contour)\\n    - symmetry\\n    - fractal dimension (\"coastline approximation\" - 1)\\n\\n    The mean, standard error, and \"worst\" or largest (mean of the three\\n    worst/largest values) of these features were computed for each image,\\n    resulting in 30 features.  For instance, field 0 is Mean Radius, field\\n    10 is Radius SE, field 20 is Worst Radius.\\n\\n    - class:\\n            - WDBC-Malignant\\n            - WDBC-Benign\\n\\n:Summary Statistics:\\n\\n===================================== ====== ======\\n                                        Min    Max\\n===================================== ====== ======\\nradius (mean):                        6.981  28.11\\ntexture (mean):                       9.71   39.28\\nperimeter (mean):                     43.79  188.5\\narea (mean):                          143.5  2501.0\\nsmoothness (mean):                    0.053  0.163\\ncompactness (mean):                   0.019  0.345\\nconcavity (mean):                     0.0    0.427\\nconcave points (mean):                0.0    0.201\\nsymmetry (mean):                      0.106  0.304\\nfractal dimension (mean):             0.05   0.097\\nradius (standard error):              0.112  2.873\\ntexture (standard error):             0.36   4.885\\nperimeter (standard error):           0.757  21.98\\narea (standard error):                6.802  542.2\\nsmoothness (standard error):          0.002  0.031\\ncompactness (standard error):         0.002  0.135\\nconcavity (standard error):           0.0    0.396\\nconcave points (standard error):      0.0    0.053\\nsymmetry (standard error):            0.008  0.079\\nfractal dimension (standard error):   0.001  0.03\\nradius (worst):                       7.93   36.04\\ntexture (worst):                      12.02  49.54\\nperimeter (worst):                    50.41  251.2\\narea (worst):                         185.2  4254.0\\nsmoothness (worst):                   0.071  0.223\\ncompactness (worst):                  0.027  1.058\\nconcavity (worst):                    0.0    1.252\\nconcave points (worst):               0.0    0.291\\nsymmetry (worst):                     0.156  0.664\\nfractal dimension (worst):            0.055  0.208\\n===================================== ====== ======\\n\\n:Missing Attribute Values: None\\n\\n:Class Distribution: 212 - Malignant, 357 - Benign\\n\\n:Creator:  Dr. William H. Wolberg, W. Nick Street, Olvi L. Mangasarian\\n\\n:Donor: Nick Street\\n\\n:Date: November, 1995\\n\\nThis is a copy of UCI ML Breast Cancer Wisconsin (Diagnostic) datasets.\\nhttps://goo.gl/U2Uwz2\\n\\nFeatures are computed from a digitized image of a fine needle\\naspirate (FNA) of a breast mass.  They describe\\ncharacteristics of the cell nuclei present in the image.\\n\\nSeparating plane described above was obtained using\\nMultisurface Method-Tree (MSM-T) [K. P. Bennett, \"Decision Tree\\nConstruction Via Linear Programming.\" Proceedings of the 4th\\nMidwest Artificial Intelligence and Cognitive Science Society,\\npp. 97-101, 1992], a classification method which uses linear\\nprogramming to construct a decision tree.  Relevant features\\nwere selected using an exhaustive search in the space of 1-4\\nfeatures and 1-3 separating planes.\\n\\nThe actual linear program used to obtain the separating plane\\nin the 3-dimensional space is that described in:\\n[K. P. Bennett and O. L. Mangasarian: \"Robust Linear\\nProgramming Discrimination of Two Linearly Inseparable Sets\",\\nOptimization Methods and Software 1, 1992, 23-34].\\n\\nThis database is also available through the UW CS ftp server:\\n\\nftp ftp.cs.wisc.edu\\ncd math-prog/cpo-dataset/machine-learn/WDBC/\\n\\n.. dropdown:: References\\n\\n  - W.N. Street, W.H. Wolberg and O.L. Mangasarian. Nuclear feature extraction\\n    for breast tumor diagnosis. IS&T/SPIE 1993 International Symposium on\\n    Electronic Imaging: Science and Technology, volume 1905, pages 861-870,\\n    San Jose, CA, 1993.\\n  - O.L. Mangasarian, W.N. Street and W.H. Wolberg. Breast cancer diagnosis and\\n    prognosis via linear programming. Operations Research, 43(4), pages 570-577,\\n    July-August 1995.\\n  - W.H. Wolberg, W.N. Street, and O.L. Mangasarian. Machine learning techniques\\n    to diagnose breast cancer from fine-needle aspirates. Cancer Letters 77 (1994)\\n    163-171.\\n', 'feature_names': array(['mean radius', 'mean texture', 'mean perimeter', 'mean area',\n",
      "       'mean smoothness', 'mean compactness', 'mean concavity',\n",
      "       'mean concave points', 'mean symmetry', 'mean fractal dimension',\n",
      "       'radius error', 'texture error', 'perimeter error', 'area error',\n",
      "       'smoothness error', 'compactness error', 'concavity error',\n",
      "       'concave points error', 'symmetry error',\n",
      "       'fractal dimension error', 'worst radius', 'worst texture',\n",
      "       'worst perimeter', 'worst area', 'worst smoothness',\n",
      "       'worst compactness', 'worst concavity', 'worst concave points',\n",
      "       'worst symmetry', 'worst fractal dimension'], dtype='<U23'), 'filename': 'breast_cancer.csv', 'data_module': 'sklearn.datasets.data'}\n"
     ]
    }
   ],
   "source": [
    "cancer_data = sklearn.datasets.load_breast_cancer()\n",
    "# Most datasets from sklearn.datasets return a Bunch object. A Bunch object is a dictionary-like structure with attributes \n",
    "# instead of key-value pairs. You can access data using dot notation (data.key) or dictionary notation (data['key']). So it's\n",
    "# not a dataframe thats why we can't use pandas functions on it such as .head().\n",
    "\"\"\"\n",
    "Attribute\tDescription:\n",
    "data\tFeatures (NumPy array)\n",
    "target\tLabels (NumPy array)\n",
    "feature_names\tColumn names (list)\n",
    "target_names\tTarget class names (list)\n",
    "DESCR\tDataset description (string)\n",
    "\"\"\"\n",
    "\n",
    "print(cancer_data)"
   ]
  },
  {
   "cell_type": "markdown",
   "id": "a2c2e166",
   "metadata": {},
   "source": [
    "## Converting the bunch of objects into pandas Dataframe:"
   ]
  },
  {
   "cell_type": "code",
   "execution_count": 3,
   "id": "9e79a28d",
   "metadata": {},
   "outputs": [
    {
     "data": {
      "text/html": [
       "<div>\n",
       "<style scoped>\n",
       "    .dataframe tbody tr th:only-of-type {\n",
       "        vertical-align: middle;\n",
       "    }\n",
       "\n",
       "    .dataframe tbody tr th {\n",
       "        vertical-align: top;\n",
       "    }\n",
       "\n",
       "    .dataframe thead th {\n",
       "        text-align: right;\n",
       "    }\n",
       "</style>\n",
       "<table border=\"1\" class=\"dataframe\">\n",
       "  <thead>\n",
       "    <tr style=\"text-align: right;\">\n",
       "      <th></th>\n",
       "      <th>mean radius</th>\n",
       "      <th>mean texture</th>\n",
       "      <th>mean perimeter</th>\n",
       "      <th>mean area</th>\n",
       "      <th>mean smoothness</th>\n",
       "      <th>mean compactness</th>\n",
       "      <th>mean concavity</th>\n",
       "      <th>mean concave points</th>\n",
       "      <th>mean symmetry</th>\n",
       "      <th>mean fractal dimension</th>\n",
       "      <th>...</th>\n",
       "      <th>worst texture</th>\n",
       "      <th>worst perimeter</th>\n",
       "      <th>worst area</th>\n",
       "      <th>worst smoothness</th>\n",
       "      <th>worst compactness</th>\n",
       "      <th>worst concavity</th>\n",
       "      <th>worst concave points</th>\n",
       "      <th>worst symmetry</th>\n",
       "      <th>worst fractal dimension</th>\n",
       "      <th>target</th>\n",
       "    </tr>\n",
       "  </thead>\n",
       "  <tbody>\n",
       "    <tr>\n",
       "      <th>0</th>\n",
       "      <td>17.99</td>\n",
       "      <td>10.38</td>\n",
       "      <td>122.80</td>\n",
       "      <td>1001.0</td>\n",
       "      <td>0.11840</td>\n",
       "      <td>0.27760</td>\n",
       "      <td>0.3001</td>\n",
       "      <td>0.14710</td>\n",
       "      <td>0.2419</td>\n",
       "      <td>0.07871</td>\n",
       "      <td>...</td>\n",
       "      <td>17.33</td>\n",
       "      <td>184.60</td>\n",
       "      <td>2019.0</td>\n",
       "      <td>0.1622</td>\n",
       "      <td>0.6656</td>\n",
       "      <td>0.7119</td>\n",
       "      <td>0.2654</td>\n",
       "      <td>0.4601</td>\n",
       "      <td>0.11890</td>\n",
       "      <td>0</td>\n",
       "    </tr>\n",
       "    <tr>\n",
       "      <th>1</th>\n",
       "      <td>20.57</td>\n",
       "      <td>17.77</td>\n",
       "      <td>132.90</td>\n",
       "      <td>1326.0</td>\n",
       "      <td>0.08474</td>\n",
       "      <td>0.07864</td>\n",
       "      <td>0.0869</td>\n",
       "      <td>0.07017</td>\n",
       "      <td>0.1812</td>\n",
       "      <td>0.05667</td>\n",
       "      <td>...</td>\n",
       "      <td>23.41</td>\n",
       "      <td>158.80</td>\n",
       "      <td>1956.0</td>\n",
       "      <td>0.1238</td>\n",
       "      <td>0.1866</td>\n",
       "      <td>0.2416</td>\n",
       "      <td>0.1860</td>\n",
       "      <td>0.2750</td>\n",
       "      <td>0.08902</td>\n",
       "      <td>0</td>\n",
       "    </tr>\n",
       "    <tr>\n",
       "      <th>2</th>\n",
       "      <td>19.69</td>\n",
       "      <td>21.25</td>\n",
       "      <td>130.00</td>\n",
       "      <td>1203.0</td>\n",
       "      <td>0.10960</td>\n",
       "      <td>0.15990</td>\n",
       "      <td>0.1974</td>\n",
       "      <td>0.12790</td>\n",
       "      <td>0.2069</td>\n",
       "      <td>0.05999</td>\n",
       "      <td>...</td>\n",
       "      <td>25.53</td>\n",
       "      <td>152.50</td>\n",
       "      <td>1709.0</td>\n",
       "      <td>0.1444</td>\n",
       "      <td>0.4245</td>\n",
       "      <td>0.4504</td>\n",
       "      <td>0.2430</td>\n",
       "      <td>0.3613</td>\n",
       "      <td>0.08758</td>\n",
       "      <td>0</td>\n",
       "    </tr>\n",
       "    <tr>\n",
       "      <th>3</th>\n",
       "      <td>11.42</td>\n",
       "      <td>20.38</td>\n",
       "      <td>77.58</td>\n",
       "      <td>386.1</td>\n",
       "      <td>0.14250</td>\n",
       "      <td>0.28390</td>\n",
       "      <td>0.2414</td>\n",
       "      <td>0.10520</td>\n",
       "      <td>0.2597</td>\n",
       "      <td>0.09744</td>\n",
       "      <td>...</td>\n",
       "      <td>26.50</td>\n",
       "      <td>98.87</td>\n",
       "      <td>567.7</td>\n",
       "      <td>0.2098</td>\n",
       "      <td>0.8663</td>\n",
       "      <td>0.6869</td>\n",
       "      <td>0.2575</td>\n",
       "      <td>0.6638</td>\n",
       "      <td>0.17300</td>\n",
       "      <td>0</td>\n",
       "    </tr>\n",
       "    <tr>\n",
       "      <th>4</th>\n",
       "      <td>20.29</td>\n",
       "      <td>14.34</td>\n",
       "      <td>135.10</td>\n",
       "      <td>1297.0</td>\n",
       "      <td>0.10030</td>\n",
       "      <td>0.13280</td>\n",
       "      <td>0.1980</td>\n",
       "      <td>0.10430</td>\n",
       "      <td>0.1809</td>\n",
       "      <td>0.05883</td>\n",
       "      <td>...</td>\n",
       "      <td>16.67</td>\n",
       "      <td>152.20</td>\n",
       "      <td>1575.0</td>\n",
       "      <td>0.1374</td>\n",
       "      <td>0.2050</td>\n",
       "      <td>0.4000</td>\n",
       "      <td>0.1625</td>\n",
       "      <td>0.2364</td>\n",
       "      <td>0.07678</td>\n",
       "      <td>0</td>\n",
       "    </tr>\n",
       "  </tbody>\n",
       "</table>\n",
       "<p>5 rows × 31 columns</p>\n",
       "</div>"
      ],
      "text/plain": [
       "   mean radius  mean texture  mean perimeter  mean area  mean smoothness  \\\n",
       "0        17.99         10.38          122.80     1001.0          0.11840   \n",
       "1        20.57         17.77          132.90     1326.0          0.08474   \n",
       "2        19.69         21.25          130.00     1203.0          0.10960   \n",
       "3        11.42         20.38           77.58      386.1          0.14250   \n",
       "4        20.29         14.34          135.10     1297.0          0.10030   \n",
       "\n",
       "   mean compactness  mean concavity  mean concave points  mean symmetry  \\\n",
       "0           0.27760          0.3001              0.14710         0.2419   \n",
       "1           0.07864          0.0869              0.07017         0.1812   \n",
       "2           0.15990          0.1974              0.12790         0.2069   \n",
       "3           0.28390          0.2414              0.10520         0.2597   \n",
       "4           0.13280          0.1980              0.10430         0.1809   \n",
       "\n",
       "   mean fractal dimension  ...  worst texture  worst perimeter  worst area  \\\n",
       "0                 0.07871  ...          17.33           184.60      2019.0   \n",
       "1                 0.05667  ...          23.41           158.80      1956.0   \n",
       "2                 0.05999  ...          25.53           152.50      1709.0   \n",
       "3                 0.09744  ...          26.50            98.87       567.7   \n",
       "4                 0.05883  ...          16.67           152.20      1575.0   \n",
       "\n",
       "   worst smoothness  worst compactness  worst concavity  worst concave points  \\\n",
       "0            0.1622             0.6656           0.7119                0.2654   \n",
       "1            0.1238             0.1866           0.2416                0.1860   \n",
       "2            0.1444             0.4245           0.4504                0.2430   \n",
       "3            0.2098             0.8663           0.6869                0.2575   \n",
       "4            0.1374             0.2050           0.4000                0.1625   \n",
       "\n",
       "   worst symmetry  worst fractal dimension  target  \n",
       "0          0.4601                  0.11890       0  \n",
       "1          0.2750                  0.08902       0  \n",
       "2          0.3613                  0.08758       0  \n",
       "3          0.6638                  0.17300       0  \n",
       "4          0.2364                  0.07678       0  \n",
       "\n",
       "[5 rows x 31 columns]"
      ]
     },
     "execution_count": 3,
     "metadata": {},
     "output_type": "execute_result"
    }
   ],
   "source": [
    "data = pd.DataFrame(cancer_data.data, columns = cancer_data.feature_names)\n",
    "# pd.DataFrame(...) → Converts the NumPy array into a Pandas DataFrame, using feature_names as column names, .data contains the\n",
    "# main dataset (a NumPy array) containing feature values, .feature_names contains a list of column names corresponding to the \n",
    "# features. If you want to include all the data (features, target, and additional metadata) into a Pandas DataFrame, you need to\n",
    "# manually add them, since sklearn.datasets.load_*() returns a Bunch object where data and target are stored separately.\n",
    "\n",
    "data['target'] = cancer_data.target\n",
    "\n",
    "data.head()"
   ]
  },
  {
   "cell_type": "markdown",
   "id": "a00dde23",
   "metadata": {},
   "source": [
    "In target column the values indicate:\n",
    "\n",
    "0 → Malignant (Cancerous) cells 🛑 (Bad, harmful, needs treatment)\n",
    "\n",
    "1 → Benign (Non-cancerous) cells ✅ (Not harmful, usually safe)"
   ]
  },
  {
   "cell_type": "code",
   "execution_count": 4,
   "id": "ca6ce974",
   "metadata": {},
   "outputs": [
    {
     "data": {
      "text/plain": [
       "(569, 31)"
      ]
     },
     "execution_count": 4,
     "metadata": {},
     "output_type": "execute_result"
    }
   ],
   "source": [
    "data.shape"
   ]
  },
  {
   "cell_type": "markdown",
   "id": "1a033513",
   "metadata": {},
   "source": [
    "This tells there are total 569 rows, which means that there are 569 different patient's data who are classified as 0(Malignant) or 1(Benign). And there are 31 columns, means that there are 31 features for each patient."
   ]
  },
  {
   "cell_type": "markdown",
   "id": "9f47861c",
   "metadata": {},
   "source": [
    "### Checking data distribution in target column:"
   ]
  },
  {
   "cell_type": "code",
   "execution_count": 5,
   "id": "e4bd01af",
   "metadata": {},
   "outputs": [
    {
     "data": {
      "text/plain": [
       "target\n",
       "1    357\n",
       "0    212\n",
       "Name: count, dtype: int64"
      ]
     },
     "execution_count": 5,
     "metadata": {},
     "output_type": "execute_result"
    }
   ],
   "source": [
    "data['target'].value_counts()"
   ]
  },
  {
   "cell_type": "markdown",
   "id": "4b1515cf",
   "metadata": {},
   "source": [
    "We can see that there is imbalancement of the data, as 357 values are Benign and only 212 datapoints are available for Malignant in the dataset."
   ]
  },
  {
   "cell_type": "markdown",
   "id": "17c444c5",
   "metadata": {},
   "source": [
    "## Creating i/p & o/p variables, and Splitting the dataset:"
   ]
  },
  {
   "cell_type": "code",
   "execution_count": 6,
   "id": "1700f5d7",
   "metadata": {},
   "outputs": [
    {
     "name": "stdout",
     "output_type": "stream",
     "text": [
      "(569, 30) (455, 30) (114, 30)\n"
     ]
    }
   ],
   "source": [
    "x = data.drop(columns='target', axis=1)\n",
    "y = data['target']\n",
    "\n",
    "x_train, x_test, y_train, y_test = train_test_split(x, y, test_size = 0.2, random_state = 2)\n",
    "\n",
    "print(x.shape, x_train.shape, x_test.shape)"
   ]
  },
  {
   "cell_type": "markdown",
   "id": "8cfd8fc7-54b1-441a-8b67-7ffaa4032bf9",
   "metadata": {},
   "source": [
    "## Standardizing the data:"
   ]
  },
  {
   "cell_type": "markdown",
   "id": "a50403d6-1404-48bc-87ee-6cceadf35f00",
   "metadata": {},
   "source": [
    "Scaling a dataset is the process of transforming numerical features so they have a common range or distribution. This helps machine learning models \n",
    "interpret and process data more effectively by preventing certain features from dominating due to larger values.\n",
    "    \n",
    "1️⃣ Ensures All Features Have the Same Scale: In a dataset, features (columns) can have different scales.\n",
    "Example: Age: 20 to 70, Salary: 10,000 to 100,000, and House Price: 5,00,000 to 50,00,000. If we don’t scale them, models give more importance to larger values (like house prices) than smaller ones (like age). Scaling prevents this imbalance and ensures all features contribute equally.\n",
    "\n",
    "2️⃣ Helps Gradient Descent Converge Faster: Many ML models (especially Neural Networks, Logistic Regression, and SVMs) use gradient descent for optimization. If features have very different scales, gradient descent may take longer to converge. Standardization helps speed up learning.\n",
    "\n",
    "3️⃣ Improves Model Performance: Many ML algorithms perform better(Better accuracy and stability in model training) when data is standardized, such as Logistic Regression, Support Vector Machines (SVM), k-Nearest Neighbors (k-NN), Neural Networks, Principal Component Analysis (PCA). \n",
    "\n",
    "4️⃣ Avoids Bias Towards Larger Values: Models calculate distances (e.g., Euclidean distance in k-NN, clustering). If one feature has much larger values than another, it dominates distance calculations. Scaling ensures fair distance computation."
   ]
  },
  {
   "cell_type": "code",
   "execution_count": 7,
   "id": "04931c9a-1c50-46d8-b095-8588bd9fbdc1",
   "metadata": {},
   "outputs": [],
   "source": [
    "from sklearn.preprocessing import StandardScaler\n",
    "\n",
    "scaler = StandardScaler()                                   # Create a scaler object\n",
    "\n",
    "x_train_std = scaler.fit_transform(x_train)                 # Fit on training data and transform\n",
    "\n",
    "x_test_std = scaler.transform(x_test)                       # Only transform test data"
   ]
  },
  {
   "cell_type": "markdown",
   "id": "3d99abb8-3b8d-4e86-9b2c-663d10845841",
   "metadata": {},
   "source": [
    "In training dataset, we use .fit_transform() as: fit() computes the mean and standard deviation of x_train, and the .transform() computes values to standardize x_train.\n",
    "\n",
    "In testing dataset, we use .transform cause if we use fit_transform(x_test), it will calculate new mean & std from x_test, which is wrong.The test data must be transformed the same way as training data to ensure consistency, so we just use .transform().\n",
    "\n",
    "Also here we don't need to transform the o/p (y_train, and y_test), because it is already scaled all the values are either 0 or 1.\n",
    "\n",
    "#### **Difference Between Scaling and Standardizing:**\n",
    "\n",
    "##### **Scaling (Min-Max Scaling):**\n",
    "- Rescales features to a fixed range (usually [0,1] or [-1,1]).\n",
    "- **Formula:**\n",
    "  \\[\n",
    "  X' = \\frac{X - X_{\\min}}{X_{\\max} - X_{\\min}}\n",
    "  \\]\n",
    "- **Example:** `MinMaxScaler()` in `sklearn.preprocessing`\n",
    "\n",
    "##### **Standardizing (Z-score Normalization):**\n",
    "- Transforms data to have **zero mean** and **unit variance**.\n",
    "- **Formula:**\n",
    "  \\[\n",
    "  X' = \\frac{X - \\mu}{\\sigma}\n",
    "  \\]\n",
    "- Here, **μ** is the mean, and **σ** is the standard deviation.\n",
    "- **Example:** `StandardScaler()` (which you're using)"
   ]
  },
  {
   "cell_type": "markdown",
   "id": "9fc7680f",
   "metadata": {},
   "source": [
    "# BUILDING NEURAL NETWORK:"
   ]
  },
  {
   "cell_type": "code",
   "execution_count": 8,
   "id": "61ce9645",
   "metadata": {},
   "outputs": [],
   "source": [
    "# Importing Tesorflow & Keras\n",
    "import tensorflow as tf\n",
    "from tensorflow import keras"
   ]
  },
  {
   "cell_type": "markdown",
   "id": "5191281b-3584-4c78-8e76-1970f28a8660",
   "metadata": {},
   "source": [
    "TensorFlow is an open-source machine learning framework developed by Google Brain. It provides a flexible ecosystem for building and deploying machine learning and deep learning models. It supports a wide range of tasks, including numerical computation, neural networks, and large-scale machine learning applications.\n",
    "\n",
    "Keras is a high-level deep learning API built on top of TensorFlow. It provides a simple and user-friendly way to build and train deep learning models."
   ]
  },
  {
   "cell_type": "code",
   "execution_count": 9,
   "id": "b7731913-72e9-4c8c-87c3-b1619b96ddad",
   "metadata": {},
   "outputs": [],
   "source": [
    "tf.random.set_seed(3)\n",
    "# tf.random.set_seed(3) sets the global random seed in TensorFlow to ensure reproducibility in operations involving randomness, such as weight \n",
    "# initialization, shuffling data, and generating random numbers."
   ]
  },
  {
   "cell_type": "markdown",
   "id": "0afbcfab-9630-48fd-847c-d77328ea4912",
   "metadata": {},
   "source": [
    "### SETTING LAYERS OF THE NEURAL NETWORK OR CREATING STRUCTURE OF NEURAL NETWORK:"
   ]
  },
  {
   "cell_type": "code",
   "execution_count": 10,
   "id": "5d1f176d-13cf-4113-b967-a167a86e55b4",
   "metadata": {},
   "outputs": [
    {
     "name": "stderr",
     "output_type": "stream",
     "text": [
      "C:\\Users\\HARSH\\OneDrive\\Documents\\Anaconda\\Lib\\site-packages\\keras\\src\\layers\\reshaping\\flatten.py:37: UserWarning: Do not pass an `input_shape`/`input_dim` argument to a layer. When using Sequential models, prefer using an `Input(shape)` object as the first layer in the model instead.\n",
      "  super().__init__(**kwargs)\n"
     ]
    }
   ],
   "source": [
    "model = keras.Sequential([\n",
    "                          keras.layers.Flatten(input_shape = (30,)),         # INPUT LAYER (Flatten)\n",
    "                          keras.layers.Dense(20, activation = 'relu'),       # HIDDEN LAYER (Dense)\n",
    "                          keras.layers.Dense(2, activation = 'sigmoid')      # OUTPUT LAYER (Dense)\n",
    "])"
   ]
  },
  {
   "cell_type": "markdown",
   "id": "090d87d0-2d39-4e52-8ac3-d0acd3e9d041",
   "metadata": {},
   "source": [
    "A Sequential model in Keras is a stack of layers arranged in order, where the output of one layer becomes the input of the next. It is used for building simple, feedforward neural networks where data flows one way from input to output.\n",
    "\n",
    "Neural networks are built using different types of layers, each serving a specific purpose. Two commonly used layers in Keras are:\n",
    "\n",
    "Flatten Layer (keras.layers.Flatten): It converts multi-dimensional input (like nd arrays for images) into a 1D array so that the next layers can process it easily. Here our i/p layer is Flatten cause we have 30 features as i/p and we want to convert it into a single array. Single array cause Dense layer expacts 1D i/p.\n",
    "\n",
    "Dense Layer (keras.layers.Dense): It is a fully connected layer that applies mathematical operations (weights, biases, activation functions) to learn patterns. \n",
    "\n",
    "Hidden layer: This is a fully connected (Dense) layer with 20 neurons. Each neuron learns patterns from the 30 input features.\n",
    "Uses ReLU (Rectified Linear Unit) activation to introduce non-linearity and improve learning. ReLU removes negative values (replaces them with 0).\n",
    "Helps the model learn faster and avoid the \"vanishing gradient\" problem. Formula: ReLU(x)=max(0,x)\n",
    "\n",
    "Output layer: This is the final output layer with 2 neurons, here we used 2 neurons cause we have only 2 o/p (Benign & Malignant). Uses Sigmoid activation to produce output values between 0 and 1, representing probabilities."
   ]
  },
  {
   "cell_type": "markdown",
   "id": "244f21c4-a2d2-43ee-b8ba-5ede3ebf8f09",
   "metadata": {},
   "source": [
    "### COMPILING THE MODEL:"
   ]
  },
  {
   "cell_type": "code",
   "execution_count": 11,
   "id": "4ce9117b-78e9-48f7-a95f-9ebaf3328cbf",
   "metadata": {},
   "outputs": [],
   "source": [
    "model.compile(optimizer = 'adam',\n",
    "             loss = 'sparse_categorical_crossentropy',\n",
    "             metrics = ['accuracy']\n",
    "             )"
   ]
  },
  {
   "cell_type": "markdown",
   "id": "67ce95b8-5eee-4ea5-8ec8-69358ed618b3",
   "metadata": {},
   "source": [
    "This code compiles the neural network model by specifying:\n",
    "\n",
    "Optimizer: Tells how the model learns, here we use adam; Adaptive Moment Estimation which is a popular optimizer that adjusts learning rates dynamically.\n",
    "\n",
    "Loss function: Tells what the model is trying to minimize, here we use space_categorical_crossentropy. This loss function is used for multi-class classification where labels are integers (0, 1, 2, ...) instead of one-hot encoded vectors, it measures how well the model’s predictions match the true labels and minimizes the error during training.\n",
    "\n",
    "Metrics: Tells what performance we are measuring, here we use accuracy which calculates the percentage of correctly classified samples."
   ]
  },
  {
   "cell_type": "markdown",
   "id": "d75ca624-2e64-41a5-adb6-26af26dd698f",
   "metadata": {},
   "source": [
    "# TRAINING THE NEURAL NETWORK:"
   ]
  },
  {
   "cell_type": "code",
   "execution_count": 12,
   "id": "eddc9518-7dbd-462d-9f21-66ab1ea80c04",
   "metadata": {},
   "outputs": [
    {
     "name": "stdout",
     "output_type": "stream",
     "text": [
      "Epoch 1/10\n",
      "\u001b[1m13/13\u001b[0m \u001b[32m━━━━━━━━━━━━━━━━━━━━\u001b[0m\u001b[37m\u001b[0m \u001b[1m2s\u001b[0m 34ms/step - accuracy: 0.6500 - loss: 406.7565 - val_accuracy: 0.6522 - val_loss: 307.9324\n",
      "Epoch 2/10\n",
      "\u001b[1m13/13\u001b[0m \u001b[32m━━━━━━━━━━━━━━━━━━━━\u001b[0m\u001b[37m\u001b[0m \u001b[1m0s\u001b[0m 13ms/step - accuracy: 0.6500 - loss: 317.1017 - val_accuracy: 0.6522 - val_loss: 229.3985\n",
      "Epoch 3/10\n",
      "\u001b[1m13/13\u001b[0m \u001b[32m━━━━━━━━━━━━━━━━━━━━\u001b[0m\u001b[37m\u001b[0m \u001b[1m0s\u001b[0m 12ms/step - accuracy: 0.6500 - loss: 232.1327 - val_accuracy: 0.6522 - val_loss: 153.9686\n",
      "Epoch 4/10\n",
      "\u001b[1m13/13\u001b[0m \u001b[32m━━━━━━━━━━━━━━━━━━━━\u001b[0m\u001b[37m\u001b[0m \u001b[1m0s\u001b[0m 11ms/step - accuracy: 0.6500 - loss: 150.3652 - val_accuracy: 0.6522 - val_loss: 80.6922\n",
      "Epoch 5/10\n",
      "\u001b[1m13/13\u001b[0m \u001b[32m━━━━━━━━━━━━━━━━━━━━\u001b[0m\u001b[37m\u001b[0m \u001b[1m0s\u001b[0m 11ms/step - accuracy: 0.6547 - loss: 70.8912 - val_accuracy: 0.6957 - val_loss: 13.6078\n",
      "Epoch 6/10\n",
      "\u001b[1m13/13\u001b[0m \u001b[32m━━━━━━━━━━━━━━━━━━━━\u001b[0m\u001b[37m\u001b[0m \u001b[1m0s\u001b[0m 11ms/step - accuracy: 0.7207 - loss: 9.1217 - val_accuracy: 0.4783 - val_loss: 9.2951\n",
      "Epoch 7/10\n",
      "\u001b[1m13/13\u001b[0m \u001b[32m━━━━━━━━━━━━━━━━━━━━\u001b[0m\u001b[37m\u001b[0m \u001b[1m0s\u001b[0m 15ms/step - accuracy: 0.4397 - loss: 9.2872 - val_accuracy: 0.7609 - val_loss: 2.4963\n",
      "Epoch 8/10\n",
      "\u001b[1m13/13\u001b[0m \u001b[32m━━━━━━━━━━━━━━━━━━━━\u001b[0m\u001b[37m\u001b[0m \u001b[1m0s\u001b[0m 12ms/step - accuracy: 0.7279 - loss: 4.8310 - val_accuracy: 0.8478 - val_loss: 2.0112\n",
      "Epoch 9/10\n",
      "\u001b[1m13/13\u001b[0m \u001b[32m━━━━━━━━━━━━━━━━━━━━\u001b[0m\u001b[37m\u001b[0m \u001b[1m0s\u001b[0m 13ms/step - accuracy: 0.7468 - loss: 4.4195 - val_accuracy: 0.7391 - val_loss: 2.7272\n",
      "Epoch 10/10\n",
      "\u001b[1m13/13\u001b[0m \u001b[32m━━━━━━━━━━━━━━━━━━━━\u001b[0m\u001b[37m\u001b[0m \u001b[1m0s\u001b[0m 12ms/step - accuracy: 0.7066 - loss: 4.1510 - val_accuracy: 0.8043 - val_loss: 2.1451\n"
     ]
    },
    {
     "data": {
      "text/plain": [
       "<keras.src.callbacks.history.History at 0x217b862ed80>"
      ]
     },
     "execution_count": 12,
     "metadata": {},
     "output_type": "execute_result"
    }
   ],
   "source": [
    "model.fit(x_train, y_train, validation_split=0.1, epochs=10)\n",
    "# validation_split=0.1 – Reserves 10% for Validation; 10% of the training data is set aside for validation. The model trains on 90% of x_train and \n",
    "# checks its performance on the remaining 10%.\n",
    "# epochs=10 – Number of Training Cycles; The model sees the entire training dataset 10 times during training. Each pass through the dataset is called an\n",
    "# epoch. More epochs → Better learning (up to a limit, after which it may overfit)."
   ]
  },
  {
   "cell_type": "code",
   "execution_count": 13,
   "id": "6e987ae8-d73f-457b-81bf-5eda453bc6dc",
   "metadata": {},
   "outputs": [
    {
     "name": "stdout",
     "output_type": "stream",
     "text": [
      "Epoch 1/10\n",
      "\u001b[1m13/13\u001b[0m \u001b[32m━━━━━━━━━━━━━━━━━━━━\u001b[0m\u001b[37m\u001b[0m \u001b[1m0s\u001b[0m 22ms/step - accuracy: 0.8326 - loss: 0.3630 - val_accuracy: 0.9130 - val_loss: 0.2409\n",
      "Epoch 2/10\n",
      "\u001b[1m13/13\u001b[0m \u001b[32m━━━━━━━━━━━━━━━━━━━━\u001b[0m\u001b[37m\u001b[0m \u001b[1m0s\u001b[0m 11ms/step - accuracy: 0.8767 - loss: 0.2571 - val_accuracy: 0.9565 - val_loss: 0.1885\n",
      "Epoch 3/10\n",
      "\u001b[1m13/13\u001b[0m \u001b[32m━━━━━━━━━━━━━━━━━━━━\u001b[0m\u001b[37m\u001b[0m \u001b[1m0s\u001b[0m 12ms/step - accuracy: 0.9315 - loss: 0.1909 - val_accuracy: 0.9783 - val_loss: 0.1565\n",
      "Epoch 4/10\n",
      "\u001b[1m13/13\u001b[0m \u001b[32m━━━━━━━━━━━━━━━━━━━━\u001b[0m\u001b[37m\u001b[0m \u001b[1m0s\u001b[0m 13ms/step - accuracy: 0.9355 - loss: 0.1548 - val_accuracy: 0.9783 - val_loss: 0.1368\n",
      "Epoch 5/10\n",
      "\u001b[1m13/13\u001b[0m \u001b[32m━━━━━━━━━━━━━━━━━━━━\u001b[0m\u001b[37m\u001b[0m \u001b[1m0s\u001b[0m 14ms/step - accuracy: 0.9560 - loss: 0.1330 - val_accuracy: 0.9783 - val_loss: 0.1240\n",
      "Epoch 6/10\n",
      "\u001b[1m13/13\u001b[0m \u001b[32m━━━━━━━━━━━━━━━━━━━━\u001b[0m\u001b[37m\u001b[0m \u001b[1m0s\u001b[0m 13ms/step - accuracy: 0.9626 - loss: 0.1183 - val_accuracy: 0.9783 - val_loss: 0.1150\n",
      "Epoch 7/10\n",
      "\u001b[1m13/13\u001b[0m \u001b[32m━━━━━━━━━━━━━━━━━━━━\u001b[0m\u001b[37m\u001b[0m \u001b[1m0s\u001b[0m 11ms/step - accuracy: 0.9648 - loss: 0.1074 - val_accuracy: 0.9783 - val_loss: 0.1083\n",
      "Epoch 8/10\n",
      "\u001b[1m13/13\u001b[0m \u001b[32m━━━━━━━━━━━━━━━━━━━━\u001b[0m\u001b[37m\u001b[0m \u001b[1m0s\u001b[0m 12ms/step - accuracy: 0.9760 - loss: 0.0989 - val_accuracy: 0.9783 - val_loss: 0.1031\n",
      "Epoch 9/10\n",
      "\u001b[1m13/13\u001b[0m \u001b[32m━━━━━━━━━━━━━━━━━━━━\u001b[0m\u001b[37m\u001b[0m \u001b[1m0s\u001b[0m 13ms/step - accuracy: 0.9794 - loss: 0.0920 - val_accuracy: 0.9783 - val_loss: 0.0991\n",
      "Epoch 10/10\n",
      "\u001b[1m13/13\u001b[0m \u001b[32m━━━━━━━━━━━━━━━━━━━━\u001b[0m\u001b[37m\u001b[0m \u001b[1m0s\u001b[0m 10ms/step - accuracy: 0.9809 - loss: 0.0864 - val_accuracy: 0.9783 - val_loss: 0.0957\n"
     ]
    }
   ],
   "source": [
    "history = model.fit(x_train_std, y_train, validation_split=0.1, epochs=10)"
   ]
  },
  {
   "cell_type": "markdown",
   "id": "f351c88a-74ac-419c-8a2a-5d411e2bf9ba",
   "metadata": {},
   "source": [
    "#### Here you can see the difference b/w normal dataset & standardized dataset:\n",
    "You can compare the values for accuracy, loss, val_accuracy, val_loss; all of them are better when we have trained on the scaled dataset, then the normal one."
   ]
  },
  {
   "cell_type": "markdown",
   "id": "385616af-ab25-4092-845c-d766bde16f7b",
   "metadata": {},
   "source": [
    "## MODEL VISUALIZATION:"
   ]
  },
  {
   "cell_type": "code",
   "execution_count": 14,
   "id": "b0b09d7d-0ce9-433c-8a12-88efe006e194",
   "metadata": {},
   "outputs": [
    {
     "data": {
      "text/plain": [
       "<matplotlib.legend.Legend at 0x217b89bd820>"
      ]
     },
     "execution_count": 14,
     "metadata": {},
     "output_type": "execute_result"
    },
    {
     "data": {
      "image/png": "[encoded data removed]",
      "text/plain": [
       "<Figure size 640x480 with 1 Axes>"
      ]
     },
     "metadata": {},
     "output_type": "display_data"
    }
   ],
   "source": [
    "plt.plot(history.history['accuracy'])\n",
    "plt.plot(history.history['val_accuracy'])\n",
    "\n",
    "plt.title('Model\\'s accuracy')\n",
    "plt.xlabel('Epoch')\n",
    "plt.ylabel('Accuracy')\n",
    "plt.legend(['Training data', 'Validation data'], loc = 'lower right')"
   ]
  },
  {
   "cell_type": "code",
   "execution_count": 15,
   "id": "ada7dbcb-60fd-4566-821c-b8230bde52ba",
   "metadata": {},
   "outputs": [
    {
     "data": {
      "text/plain": [
       "<matplotlib.legend.Legend at 0x217bab07e90>"
      ]
     },
     "execution_count": 15,
     "metadata": {},
     "output_type": "execute_result"
    },
    {
     "data": {
      "image/png": "[encoded data removed]",
      "text/plain": [
       "<Figure size 640x480 with 1 Axes>"
      ]
     },
     "metadata": {},
     "output_type": "display_data"
    }
   ],
   "source": [
    "plt.plot(history.history['loss'])\n",
    "plt.plot(history.history['val_loss'])\n",
    "\n",
    "plt.title('Model\\'s Loss')\n",
    "plt.xlabel('Epoch')\n",
    "plt.ylabel('Loss')\n",
    "plt.legend(['Training data', 'Validation data'], loc = 'upper right')"
   ]
  },
  {
   "cell_type": "markdown",
   "id": "666c6bed-7279-4448-bf74-6e0aea0bcc01",
   "metadata": {},
   "source": [
    "## MODEL EVALUATION ON TEST DATA:"
   ]
  },
  {
   "cell_type": "code",
   "execution_count": 16,
   "id": "8a7a1693-fe89-4094-984b-0a8ccec8fe99",
   "metadata": {},
   "outputs": [
    {
     "name": "stdout",
     "output_type": "stream",
     "text": [
      "\u001b[1m4/4\u001b[0m \u001b[32m━━━━━━━━━━━━━━━━━━━━\u001b[0m\u001b[37m\u001b[0m \u001b[1m0s\u001b[0m 16ms/step - accuracy: 0.9791 - loss: 0.0981\n"
     ]
    }
   ],
   "source": [
    "loss, accuracy = model.evaluate(x_test_std, y_test)\n",
    "# In deep learning (DL) models, the .evaluate() function both predicts and evaluates the results in one step. First, the model takes x_test_std as input\n",
    "# and predicts the output. Then it compares the predicted values with the actual labels(y_test) using the loss function (e.g., categorical cross-entropy\n",
    "# for classification, MSE for regression). It calculates accuracy (or other metrics) based on predictions and y_test.\n",
    "# If multiple metrics were specified during model.compile(), evaluate() returns multiple values (e.g., loss, accuracy, precision, etc)."
   ]
  },
  {
   "cell_type": "markdown",
   "id": "2d30b883-0389-4055-8f96-11dc373f7d3e",
   "metadata": {},
   "source": [
    "## PREDICTION ON TEST DATA:"
   ]
  },
  {
   "cell_type": "code",
   "execution_count": 17,
   "id": "4b2997b1-dbc2-4c6c-9c22-6841e6b14691",
   "metadata": {},
   "outputs": [
    {
     "name": "stdout",
     "output_type": "stream",
     "text": [
      "\u001b[1m4/4\u001b[0m \u001b[32m━━━━━━━━━━━━━━━━━━━━\u001b[0m\u001b[37m\u001b[0m \u001b[1m0s\u001b[0m 31ms/step\n"
     ]
    }
   ],
   "source": [
    "y_pred = model.predict(x_test_std)"
   ]
  },
  {
   "cell_type": "code",
   "execution_count": 18,
   "id": "c792288c-138e-46d7-81fa-f2b81be4df72",
   "metadata": {},
   "outputs": [
    {
     "name": "stdout",
     "output_type": "stream",
     "text": [
      "(114, 30)\n",
      "The 1st data point in test data: \n",
      " [-0.04462793 -1.41612656 -0.05903514 -0.16234067  2.0202457  -0.11323672\n",
      "  0.18500609  0.47102419  0.63336386  0.26335737  0.53209124  2.62763999\n",
      "  0.62351167  0.11405261  1.01246781  0.41126289  0.63848593  2.88971815\n",
      " -0.41675911  0.74270853 -0.32983699 -1.67435595 -0.36854552 -0.38767294\n",
      "  0.32655007 -0.74858917 -0.54689089 -0.18278004 -1.23064515 -0.6268286 ]\n"
     ]
    }
   ],
   "source": [
    "print(x_test_std.shape)\n",
    "print('The 1st data point in test data: \\n', x_test_std[0])"
   ]
  },
  {
   "cell_type": "code",
   "execution_count": 19,
   "id": "75a7c6e8-2dcc-49e4-bef4-42217818a979",
   "metadata": {},
   "outputs": [
    {
     "name": "stdout",
     "output_type": "stream",
     "text": [
      "(114, 2)\n",
      "The 1st predictes value for the test data: \n",
      " [0.17988214 0.7299726 ]\n"
     ]
    }
   ],
   "source": [
    "print(y_pred.shape)\n",
    "print('The 1st predictes value for the test data: \\n', y_pred[0])"
   ]
  },
  {
   "cell_type": "markdown",
   "id": "3891e0c4-9f45-4681-8b2b-ab1a9496d58b",
   "metadata": {},
   "source": [
    "Here we can see that unlike the Machine Learning model's prediction, this deep learning model predicts **two outputs**. This tells the probability of the **two classes**:  \n",
    "- **Malignant class probability**  \n",
    "- **Benign class probability**  \n",
    "\n",
    "For example, if the output is:  0.11346108, and 0.632441\n",
    "\n",
    "\n",
    "Then this means:  \n",
    "- **Class 0 probability →** `0.113` (~11.3%)  \n",
    "- **Class 1 probability →** `0.632` (~63.2%)  \n",
    "\n",
    "Since `0.632` is higher, the model is predicting **Class 1 (Benign)**.\n",
    "\n",
    "So, for each of the **114 different values** in the testing data, we will have **two different values** as the output, each representing the probability of **Class 0 or Class 1**.\n"
   ]
  },
  {
   "cell_type": "code",
   "execution_count": 20,
   "id": "88b8c970-5565-4a2d-be57-9a3d68e4970f",
   "metadata": {},
   "outputs": [
    {
     "name": "stdout",
     "output_type": "stream",
     "text": [
      "[10, 20, 49] 2\n"
     ]
    }
   ],
   "source": [
    "# Working of .argmax() function, it return the index of the max. value in the list:\n",
    "a = [10, 20, 49]\n",
    "i = np.argmax(a)\n",
    "print(a, i)"
   ]
  },
  {
   "cell_type": "markdown",
   "id": "79906c75-0413-442f-963f-74b5f28e12e2",
   "metadata": {},
   "source": [
    "### Converting the predication probability to class labels:"
   ]
  },
  {
   "cell_type": "code",
   "execution_count": 21,
   "id": "33e37dbb-10b5-4ba5-9ce2-9d438fcb93fc",
   "metadata": {},
   "outputs": [
    {
     "name": "stdout",
     "output_type": "stream",
     "text": [
      "[1, 1, 1, 0, 1, 0, 1, 1, 1, 1, 0, 1, 1, 1, 1, 0, 1, 1, 1, 0, 1, 1, 1, 1, 1, 0, 1, 1, 0, 0, 1, 1, 1, 0, 0, 1, 1, 1, 1, 1, 0, 0, 1, 1, 0, 1, 1, 1, 0, 0, 1, 0, 1, 1, 1, 1, 1, 1, 0, 1, 1, 0, 1, 0, 0, 1, 0, 0, 1, 0, 0, 0, 1, 0, 1, 0, 1, 1, 1, 0, 0, 0, 0, 1, 1, 1, 1, 1, 1, 0, 1, 1, 1, 0, 0, 1, 0, 0, 1, 1, 1, 0, 0, 0, 1, 1, 1, 1, 1, 1, 0, 0, 1, 0]\n"
     ]
    }
   ],
   "source": [
    "y_pred_label = [np.argmax(i) for i in y_pred]\n",
    "print(y_pred_label)"
   ]
  },
  {
   "cell_type": "markdown",
   "id": "ea0562db-33b8-4cae-bf83-9f2b69a4196b",
   "metadata": {},
   "source": [
    "## BUILDING THE PREDICTIVE SYSTEM:"
   ]
  },
  {
   "cell_type": "code",
   "execution_count": 22,
   "id": "755822d4-8447-41ac-8769-94f88a870e08",
   "metadata": {},
   "outputs": [
    {
     "name": "stdout",
     "output_type": "stream",
     "text": [
      "\u001b[1m1/1\u001b[0m \u001b[32m━━━━━━━━━━━━━━━━━━━━\u001b[0m\u001b[37m\u001b[0m \u001b[1m0s\u001b[0m 59ms/step\n",
      "[[1.2537221e-06 1.0000000e+00]]\n",
      "[1]\n",
      "The tumor is Benign\n"
     ]
    },
    {
     "name": "stderr",
     "output_type": "stream",
     "text": [
      "C:\\Users\\HARSH\\OneDrive\\Documents\\Anaconda\\Lib\\site-packages\\sklearn\\base.py:493: UserWarning: X does not have valid feature names, but StandardScaler was fitted with feature names\n",
      "  warnings.warn(\n"
     ]
    }
   ],
   "source": [
    "# Taking the i/p:\n",
    "input_data = (10.0, 15.2, 80.3, 50.1, 0.1, 0.2, 0.3, 0.4, 0.5, 0.6,\n",
    "              12.1, 20.2, 90.3, 60.1, 0.11, 0.22, 0.33, 0.44, 0.55, 0.66,\n",
    "              13.2, 25.3, 95.4, 70.2, 0.12, 0.24, 0.36, 0.48, 0.60, 0.72)\n",
    "\n",
    "# Converting i/p data to numpy array:\n",
    "np_input = np.asarray(input_data)\n",
    "\n",
    "# Reshaping the numpy array:\n",
    "reshape_input = np_input.reshape(1, -1)\n",
    "\n",
    "# Standardizing the input data:\n",
    "input_std = scaler.transform(reshape_input)\n",
    "\n",
    "# Predicting the value:\n",
    "input_pred = model.predict(input_std)\n",
    "print(input_pred)\n",
    "\n",
    "# Labeling the predicted value:\n",
    "input_label = [np.argmax(input_pred)]\n",
    "print(input_label)\n",
    "\n",
    "# Printing the class:\n",
    "if(input_label[0] == 0):\n",
    "    print('The tumor is Malignant')\n",
    "else:\n",
    "    print('The tumor is Benign')"
   ]
  },
  {
   "cell_type": "code",
   "execution_count": null,
   "id": "27897ce2-127a-40ae-8643-60aed929f774",
   "metadata": {},
   "outputs": [],
   "source": []
  }
 ],
 "metadata": {
  "kernelspec": {
   "display_name": "Python 3 (ipykernel)",
   "language": "python",
   "name": "python3"
  },
  "language_info": {
   "codemirror_mode": {
    "name": "ipython",
    "version": 3
   },
   "file_extension": ".py",
   "mimetype": "text/x-python",
   "name": "python",
   "nbconvert_exporter": "python",
   "pygments_lexer": "ipython3",
   "version": "3.12.7"
  }
 },
 "nbformat": 4,
 "nbformat_minor": 5
}
