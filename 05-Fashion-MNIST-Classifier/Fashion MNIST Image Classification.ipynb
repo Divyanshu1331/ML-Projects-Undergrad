{
 "cells": [
  {
   "cell_type": "markdown",
   "id": "8f52a6d3-8b0c-487e-bd58-2834a707d8e2",
   "metadata": {},
   "source": [
    "## ABOUT THE FASHION_MNIST DATASET:\n",
    "\n",
    "The Fashion-MNIST is a dataset of Zalando's article images. The Fashion-MNIST dataset is a popular dataset used for benchmarking machine learning models, particularly in computer vision. It is designed as a drop-in replacement for the original MNIST dataset but contains images of clothing items instead of handwritten digits.\n",
    "\n",
    "#### **Overview of the Fashion-MNIST Dataset:**\n",
    "- **Size:** 70,000 grayscale images  \n",
    "- **Training set:** 60,000 images  \n",
    "- **Test set:** 10,000 images  \n",
    "- **Image dimensions:** 28x28 pixels  \n",
    "- **Number of classes:** 10 (each representing a type of clothing)  \n",
    "\n",
    "#### **Classes (Labels) in Fashion-MNIST**\n",
    "Each image belongs to one of the following 10 classes:\n",
    "\n",
    "| Label | Class Name     |\n",
    "|-------|--------------|\n",
    "| 0     | T-shirt/top  |\n",
    "| 1     | Trouser      |\n",
    "| 2     | Pullover     |\n",
    "| 3     | Dress        |\n",
    "| 4     | Coat         |\n",
    "| 5     | Sandal       |\n",
    "| 6     | Shirt        |\n",
    "| 7     | Sneaker      |\n",
    "| 8     | Bag          |\n",
    "| 9     | Ankle boot   |\n",
    "\n",
    "#### **Key Features:**\n",
    "- The dataset is more challenging than MNIST because the images have more complex patterns.  \n",
    "- It is intended to be used as a benchmark for machine learning and deep learning models.  \n",
    "- Each pixel in the images has values ranging from **0 to 255** (grayscale intensity).  \n",
    "- Unlike color images (RGB), these images have only **one channel**.  \n",
    "- The images are already preprocessed, so they are in **NumPy array format**.  \n"
   ]
  },
  {
   "cell_type": "code",
   "execution_count": 1,
   "id": "b25da31e-c6d0-47f0-8cb0-281dcc74b72c",
   "metadata": {},
   "outputs": [],
   "source": [
    "import numpy as np\n",
    "np.random.seed(0)\n",
    "\n",
    "import matplotlib.pyplot as plt\n",
    "\n",
    "import tensorflow as tf\n",
    "tf.random.set_seed(0)\n",
    "\n",
    "from tensorflow.keras import datasets, layers, models"
   ]
  },
  {
   "cell_type": "markdown",
   "id": "72505247-8412-4c9d-872b-304ceca4efab",
   "metadata": {},
   "source": [
    "## IMPORTING FASHION_MNIST DATASET:"
   ]
  },
  {
   "cell_type": "code",
   "execution_count": 2,
   "id": "e06e2e9f-1656-488b-8b04-d96e0b30aa46",
   "metadata": {},
   "outputs": [],
   "source": [
    "data = datasets.fashion_mnist\n",
    "(train_img, train_labels), (test_img, test_labels) = data.load_data()"
   ]
  },
  {
   "cell_type": "code",
   "execution_count": 3,
   "id": "ed4152e2-ab5f-46a7-917c-8613645d0c02",
   "metadata": {},
   "outputs": [
    {
     "data": {
      "image/png": "[encoded data removed]",
      "text/plain": [
       "<Figure size 640x480 with 1 Axes>"
      ]
     },
     "metadata": {},
     "output_type": "display_data"
    }
   ],
   "source": [
    "# Display a sample image\n",
    "plt.imshow(train_img[0], cmap='gray')    # Displaying image in grayscale format(cmap='gray') \n",
    "plt.title(f\"Label: {train_labels[0]}\")\n",
    "plt.show()"
   ]
  },
  {
   "cell_type": "code",
   "execution_count": 4,
   "id": "b5e9338f-b19f-4c16-9185-cba24ededccb",
   "metadata": {},
   "outputs": [
    {
     "name": "stdout",
     "output_type": "stream",
     "text": [
      "The type of training data and training label is:  <class 'numpy.ndarray'> &  <class 'numpy.ndarray'> \n",
      "Total images in training data:  60000\n"
     ]
    }
   ],
   "source": [
    "print('The type of training data and training label is: ', type(train_img), '& ',type(train_labels), '\\nTotal images in training data: ', len(train_img))"
   ]
  },
  {
   "cell_type": "code",
   "execution_count": 5,
   "id": "2b67716f-845e-4997-a400-f196498b01d6",
   "metadata": {},
   "outputs": [
    {
     "name": "stdout",
     "output_type": "stream",
     "text": [
      "The type of testing data and testing label is:  <class 'numpy.ndarray'> &  <class 'numpy.ndarray'> \n",
      "Total images in testing data:  10000\n"
     ]
    }
   ],
   "source": [
    "print('The type of testing data and testing label is: ', type(test_img), '& ',type(test_labels), '\\nTotal images in testing data: ', len(test_img))"
   ]
  },
  {
   "cell_type": "code",
   "execution_count": 6,
   "id": "59e4fc42-68f2-49b2-8ab3-6d427320600a",
   "metadata": {},
   "outputs": [
    {
     "name": "stdout",
     "output_type": "stream",
     "text": [
      "The shape of an image in the trating data:  (28, 28) \n",
      "This shows that images are in Grayscale, as there are 0 channels.\n"
     ]
    }
   ],
   "source": [
    "print('The shape of an image in the trating data: ', train_img[0].shape, '\\nThis shows that images are in Grayscale, as there are 0 channels.')"
   ]
  },
  {
   "cell_type": "markdown",
   "id": "ca255e9a-aaf6-4791-929d-7deef2253691",
   "metadata": {},
   "source": [
    "## NORMALIZING THE PIXEL VALUE TO BE IN A RANGE OF 0 to 1:"
   ]
  },
  {
   "cell_type": "code",
   "execution_count": 7,
   "id": "c4e440b2-1dcc-4aa2-a84a-24f983d9b379",
   "metadata": {},
   "outputs": [],
   "source": [
    "train_data, test_data = train_img/255, test_img/255"
   ]
  },
  {
   "cell_type": "markdown",
   "id": "c98e9117-2b2d-4b67-98b6-85902f05eb66",
   "metadata": {},
   "source": [
    "## RESHAPING THE IMAGES AS (28, 28, 1):\n",
    "Since CNNs expect a 3D input per image, we must reshape (28,28) → (28,28,1) so the model knows it's a grayscale image. Otherwise, it may misinterpret the data shape and cause errors."
   ]
  },
  {
   "cell_type": "code",
   "execution_count": 8,
   "id": "e4ae1bd5-10d8-46e1-9e77-ef9db6434a21",
   "metadata": {},
   "outputs": [],
   "source": [
    "train_data = train_data.reshape(-1, 28, 28, 1)\n",
    "test_data = test_data.reshape(-1, 28, 28, 1)"
   ]
  },
  {
   "cell_type": "code",
   "execution_count": 9,
   "id": "d9f738c9-d751-4cf0-bcd1-6a13d4c2d140",
   "metadata": {},
   "outputs": [
    {
     "name": "stdout",
     "output_type": "stream",
     "text": [
      "The shape of training and testing data:  (60000, 28, 28, 1) and  (10000, 28, 28, 1)\n"
     ]
    }
   ],
   "source": [
    "print('The shape of training and testing data: ', train_data.shape, 'and ', test_data.shape)"
   ]
  },
  {
   "cell_type": "markdown",
   "id": "6feba335-132f-43b7-9ca9-02553c3c86e1",
   "metadata": {},
   "source": [
    "## BUILDING CONVOLUTION NEURAL NETWORK(CNN):"
   ]
  },
  {
   "cell_type": "code",
   "execution_count": 10,
   "id": "0dbc7b79-9661-46c7-8b93-6a2bc90b035d",
   "metadata": {},
   "outputs": [],
   "source": [
    "model = models.Sequential()                             # Creating an object of the Sequential class"
   ]
  },
  {
   "cell_type": "code",
   "execution_count": 11,
   "id": "0df31903-eb31-4b66-8be4-8ca267d4f1a9",
   "metadata": {},
   "outputs": [
    {
     "name": "stderr",
     "output_type": "stream",
     "text": [
      "C:\\Users\\HARSH\\OneDrive\\Documents\\Anaconda\\Lib\\site-packages\\keras\\src\\layers\\convolutional\\base_conv.py:107: UserWarning: Do not pass an `input_shape`/`input_dim` argument to a layer. When using Sequential models, prefer using an `Input(shape)` object as the first layer in the model instead.\n",
      "  super().__init__(activity_regularizer=activity_regularizer, **kwargs)\n"
     ]
    }
   ],
   "source": [
    "# This section of code builds the convolutional base of a Convolutional Neural Network (CNN)\n",
    "\n",
    "model.add(layers.Conv2D(32, (3, 3), activation = 'relu', input_shape = (28, 28, 1)))\n",
    "model.add(layers.MaxPooling2D((2, 2)))\n",
    "model.add(layers.Conv2D(64, (3, 3), activation = 'relu'))\n",
    "model.add(layers.MaxPooling2D((2, 2)))\n",
    "model.add(layers.Conv2D(64, (3, 3), activation = 'relu'))"
   ]
  },
  {
   "cell_type": "markdown",
   "id": "6bc80562-4445-463d-9108-cdff18f87dc6",
   "metadata": {},
   "source": [
    "---\n",
    "#### Conv2D and MaxPooling2D in CNNs  \n",
    "\n",
    "Conv2D and MaxPooling2D in CNNs are two functions that are fundamental building blocks in **Convolutional Neural Networks (CNNs)** used for image processing tasks like **classification, object detection, and segmentation**.  \n",
    "\n",
    "---\n",
    "\n",
    "#### 1. Conv2D (Convolutional Layer)  \n",
    "🔹 **Purpose:** Extracts spatial features (edges, textures, patterns) from an image.  \n",
    "🔹 **How it works:** Applies multiple filters (kernels) to an input image and computes feature maps.  \n",
    "\n",
    "**Syntax**  \n",
    "```python\n",
    "tf.keras.layers.Conv2D(filters, kernel_size, strides=(1,1), padding='valid', activation=None)\n",
    "```\n",
    "#### Main Parameters  \n",
    "- **`filters`** → Number of filters (output feature maps).  \n",
    "- **`kernel_size`** → Size of the filter (e.g., `(3,3)` for a **3×3 kernel**).  \n",
    "- **`strides`** → Step size for moving the filter (**default: (1,1)**).  \n",
    "- **`padding`**:  \n",
    "  - `'valid'` → No padding, **reduces image size**.  \n",
    "  - `'same'` → Adds padding, **keeps same size**.  \n",
    "- **`activation`** → Activation function (**ReLU is commonly used**).  \n",
    "\n",
    "---\n",
    "\n",
    "#### 2. MaxPooling2D (Pooling Layer)  \n",
    "🔹 **Purpose:** Reduces the spatial dimensions (**width & height**) while keeping the most important features.  \n",
    "🔹 **How it works:** Extracts the maximum value from each region (**pool size**) in the feature map.  \n",
    "\n",
    "**Syntax**  \n",
    "```python\n",
    "tf.keras.layers.MaxPooling2D(pool_size=(2,2), strides=None, padding='valid')\n",
    "```\n",
    "#### Main Parameters  \n",
    "- **`pool_size`** → Size of the pooling window (e.g., `(2,2)` reduces the size by half).  \n",
    "- **`strides`** → Step size (**default is same as `pool_size`**).  \n",
    "- **`padding`**:  \n",
    "  - `'valid'` → No padding.  \n",
    "  - `'same'` → Keeps some border pixels.  "
   ]
  },
  {
   "cell_type": "code",
   "execution_count": 12,
   "id": "bbf7c17d-923f-46b2-af32-f0d705da03f0",
   "metadata": {},
   "outputs": [],
   "source": [
    "# Fully connected dense layer:\n",
    "\n",
    "model.add(layers.Flatten())\n",
    "model.add(layers.Dense(64, activation = 'relu'))\n",
    "model.add(layers.Dense(10, activation = 'linear'))  # Activation: linear (default) → Outputs raw logits (unnormalized scores) instead of probabilities."
   ]
  },
  {
   "cell_type": "code",
   "execution_count": 13,
   "id": "cda34c06-d5c6-4dce-8afd-7e0ee2c5b283",
   "metadata": {},
   "outputs": [],
   "source": [
    "# Compiling the model:\n",
    "\n",
    "model.compile(optimizer = 'adam',\n",
    "             loss = tf.keras.losses.SparseCategoricalCrossentropy(from_logits = True),  # This is true cause model's o/p is logist, it would be false if\n",
    "                                                                                        # the o/p is probability as in the case of softmax.\n",
    "             metrics = ['accuracy'])"
   ]
  },
  {
   "cell_type": "markdown",
   "id": "e875268b-8956-415f-a60a-d83d62b39269",
   "metadata": {},
   "source": [
    "## MODEL TRAINING:"
   ]
  },
  {
   "cell_type": "code",
   "execution_count": 14,
   "id": "e3f3fd8f-6e92-4e22-b651-91ddffd5d8a5",
   "metadata": {},
   "outputs": [
    {
     "name": "stdout",
     "output_type": "stream",
     "text": [
      "Epoch 1/5\n",
      "\u001b[1m1875/1875\u001b[0m \u001b[32m━━━━━━━━━━━━━━━━━━━━\u001b[0m\u001b[37m\u001b[0m \u001b[1m32s\u001b[0m 16ms/step - accuracy: 0.7420 - loss: 0.7129 - val_accuracy: 0.8667 - val_loss: 0.3699\n",
      "Epoch 2/5\n",
      "\u001b[1m1875/1875\u001b[0m \u001b[32m━━━━━━━━━━━━━━━━━━━━\u001b[0m\u001b[37m\u001b[0m \u001b[1m27s\u001b[0m 14ms/step - accuracy: 0.8779 - loss: 0.3376 - val_accuracy: 0.8854 - val_loss: 0.3242\n",
      "Epoch 3/5\n",
      "\u001b[1m1875/1875\u001b[0m \u001b[32m━━━━━━━━━━━━━━━━━━━━\u001b[0m\u001b[37m\u001b[0m \u001b[1m28s\u001b[0m 15ms/step - accuracy: 0.8968 - loss: 0.2831 - val_accuracy: 0.8910 - val_loss: 0.3079\n",
      "Epoch 4/5\n",
      "\u001b[1m1875/1875\u001b[0m \u001b[32m━━━━━━━━━━━━━━━━━━━━\u001b[0m\u001b[37m\u001b[0m \u001b[1m27s\u001b[0m 15ms/step - accuracy: 0.9081 - loss: 0.2490 - val_accuracy: 0.8886 - val_loss: 0.3117\n",
      "Epoch 5/5\n",
      "\u001b[1m1875/1875\u001b[0m \u001b[32m━━━━━━━━━━━━━━━━━━━━\u001b[0m\u001b[37m\u001b[0m \u001b[1m27s\u001b[0m 15ms/step - accuracy: 0.9195 - loss: 0.2214 - val_accuracy: 0.8979 - val_loss: 0.2873\n"
     ]
    }
   ],
   "source": [
    "history = model.fit(train_data, train_labels, epochs = 5, validation_data = (test_data, test_labels))"
   ]
  },
  {
   "cell_type": "markdown",
   "id": "669a2bd2-c981-4eef-820b-1df86ecd85eb",
   "metadata": {},
   "source": [
    "#### Using Test Data as Validation Data in `model.fit()`\n",
    "\n",
    "In `model.fit()`, we typically use a **portion of the training data** for validation. However, in this case, we are using the **test data** as validation data, which has some implications.\n",
    "\n",
    "##### **Validation Data vs. Test Data**\n",
    "- **Validation Data**: Used during training to **tune hyperparameters** and monitor **overfitting**.\n",
    "- **Test Data**: Used **after training is complete** to evaluate the model's final performance.\n",
    "\n",
    "---\n",
    "\n",
    "##### **How It Works in This Case**\n",
    "1. **The model evaluates test data after every epoch.**  \n",
    "   - After each round of training, it checks how well it's doing on the test set.  \n",
    "\n",
    "2. **The model does not learn from test data.**  \n",
    "   - The weights are **not updated** based on test data.  \n",
    "   - It is only used to compute `val_loss` and `val_accuracy`.  \n",
    "\n",
    "---\n",
    "\n",
    "##### **Potential Issues**\n",
    "- Normally, the **test set** should be used **only after training** is complete.  \n",
    "- Using test data for validation means it gets **indirectly \"seen\"** during training.  \n",
    "- This can lead to **data leakage**, making test results **over-optimistic**.  \n",
    "\n",
    "---\n",
    "\n",
    "##### **Better Approach: Separate Train, Validation, and Test Sets**\n",
    "A better way is to split data into:\n",
    "- **Training Set** → For learning.  \n",
    "- **Validation Set** → For tuning (e.g., 20% of training data).  \n",
    "- **Test Set** → For final evaluation.  \n",
    "\n",
    "---\n",
    "\n",
    "**But here we are using test data as a validation set, just to show that this can be done too.**  \n"
   ]
  },
  {
   "cell_type": "markdown",
   "id": "b9ba860c-bcd8-47fe-bf4a-b51ecb37f64d",
   "metadata": {},
   "source": [
    "## EVALUATION OF THE MODEL:"
   ]
  },
  {
   "cell_type": "code",
   "execution_count": 15,
   "id": "1e115044-b393-43b1-9d06-95b08382d8fd",
   "metadata": {},
   "outputs": [
    {
     "name": "stdout",
     "output_type": "stream",
     "text": [
      "313/313 - 2s - 7ms/step - accuracy: 0.8979 - loss: 0.2873\n",
      "\n",
      "Test Accuracy:  89.78999853134155 %\n"
     ]
    }
   ],
   "source": [
    "test_loss, test_acc = model.evaluate(test_data, test_labels, verbose = 2)  # verbose=2: Controls the display of progress logs: 0: No output, 1: Shows a \n",
    "                                                                           # progress bar, 2: Prints one line per epoch with loss and accuracy.\n",
    "print('\\nTest Accuracy: ', test_acc*100, '%')"
   ]
  },
  {
   "cell_type": "code",
   "execution_count": 16,
   "id": "88052dcb-f44f-4066-aa10-6cf89d9cc586",
   "metadata": {},
   "outputs": [
    {
     "data": {
      "text/plain": [
       "<matplotlib.legend.Legend at 0x1a59d6bed20>"
      ]
     },
     "execution_count": 16,
     "metadata": {},
     "output_type": "execute_result"
    },
    {
     "data": {
      "image/png": "[encoded data removed]",
      "text/plain": [
       "<Figure size 640x480 with 1 Axes>"
      ]
     },
     "metadata": {},
     "output_type": "display_data"
    }
   ],
   "source": [
    "# Plotting model's training & validation accuracy:\n",
    "plt.plot(history.history['accuracy'])\n",
    "plt.plot(history.history['val_accuracy'])     # Here our training accuracy is the validation accuracy as test data is validation set \n",
    "plt.ylabel('Accuracy')\n",
    "plt.xlabel('Epoch')\n",
    "plt.title('Model\\'s accuracy')\n",
    "plt.legend(['Train', 'Test'], loc = 'upper left')"
   ]
  },
  {
   "cell_type": "code",
   "execution_count": 17,
   "id": "854e8bcd-a51f-4ac3-887c-e90218f26cc8",
   "metadata": {},
   "outputs": [
    {
     "data": {
      "text/plain": [
       "<matplotlib.legend.Legend at 0x1a5cd681e50>"
      ]
     },
     "execution_count": 17,
     "metadata": {},
     "output_type": "execute_result"
    },
    {
     "data": {
      "image/png": "[encoded data removed]",
      "text/plain": [
       "<Figure size 640x480 with 1 Axes>"
      ]
     },
     "metadata": {},
     "output_type": "display_data"
    }
   ],
   "source": [
    "# Plotting model's training & validation loss\n",
    "plt.plot(history.history['loss'])\n",
    "plt.plot(history.history['val_loss'])\n",
    "plt.xlabel('Epoch')\n",
    "plt.ylabel('Loss')\n",
    "plt.title('Model\\'s Loss')\n",
    "plt.legend(['Train', 'Test'], loc = 'upper right')"
   ]
  },
  {
   "cell_type": "code",
   "execution_count": null,
   "id": "ebeeae27-8d93-4daa-844d-d7c6138ccf09",
   "metadata": {},
   "outputs": [],
   "source": []
  }
 ],
 "metadata": {
  "kernelspec": {
   "display_name": "Python 3 (ipykernel)",
   "language": "python",
   "name": "python3"
  },
  "language_info": {
   "codemirror_mode": {
    "name": "ipython",
    "version": 3
   },
   "file_extension": ".py",
   "mimetype": "text/x-python",
   "name": "python",
   "nbconvert_exporter": "python",
   "pygments_lexer": "ipython3",
   "version": "3.12.7"
  }
 },
 "nbformat": 4,
 "nbformat_minor": 5
}
