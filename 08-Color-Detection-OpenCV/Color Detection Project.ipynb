{
 "cells": [
  {
   "cell_type": "code",
   "execution_count": 1,
   "id": "92acb494-db58-44d1-b487-fdc9a1eda3eb",
   "metadata": {},
   "outputs": [],
   "source": [
    "import cv2\n",
    "import numpy as np\n",
    "from PIL import Image"
   ]
  },
  {
   "cell_type": "markdown",
   "id": "c9c63996-d8c0-478a-a279-8f51ecfba1c9",
   "metadata": {},
   "source": [
    "### We are going to work with HSV colorspace for color detection, because HSV simplifies and improves color detection, making it more accurate and adaptable to lighting variations. That’s why OpenCV and most computer vision tasks prefer HSV over RGB. HSV stands for:  \n",
    "\n",
    "- **H (Hue)** → The actual color (Red, Blue, Green, etc.). Measured in degrees **(0° - 360°)**.  \n",
    "- **S (Saturation)** → The intensity or purity of the color (**0% - 100%** or **0 - 255** in OpenCV).  \n",
    "- **V (Value or Brightness)** → The brightness of the color (**0% - 100%** or **0 - 255** in OpenCV).  \n",
    " \n",
    "In the **Hue, Saturation, and Value (HSV)** color space, you need both **upper and lower limits** to define a specific color range. Each color occupies a range of **H, S, and V**, so to detect a specific color, you define:  \n",
    "\n",
    "- **Lower Bound** → Minimum values of **H, S, and V**  \n",
    "- **Upper Bound** → Maximum values of **H, S, and V**  \n",
    "\n",
    "This makes HSV an efficient and accurate choice for **color-based segmentation and detection** in computer vision. "
   ]
  },
  {
   "cell_type": "code",
   "execution_count": 2,
   "id": "98f36f83-1787-4477-b86d-35a3e0561f7a",
   "metadata": {},
   "outputs": [],
   "source": [
    "# Function that takes BGR color and returns the color's Lower and upper limits:\n",
    "\n",
    "def get_limit(bgr_color, hue_range=10, sat_range=50, val_range=50):\n",
    "\n",
    "    # Convert BGR to HSV using OpenCV\n",
    "    hsv_color = cv2.cvtColor(np.uint8([[bgr_color]]), cv2.COLOR_BGR2HSV)[0][0]\n",
    "    \n",
    "    # Extract H, S, V values\n",
    "    h, s, v = hsv_color\n",
    "\n",
    "    # Define lower and upper limits with a range\n",
    "    lower_hsv = np.array([\n",
    "        max(h - hue_range, 0),      # Lower Hue\n",
    "        max(s - sat_range, 0),      # Lower Saturation\n",
    "        max(v - val_range, 0)])     # Lower Value\n",
    "\n",
    "    upper_hsv = np.array([\n",
    "        min(h + hue_range, 179),    # Upper Hue (max 179 in OpenCV)\n",
    "        min(s + sat_range, 255),    # Upper Saturation (max 255)\n",
    "        min(v + val_range, 255)])   # Upper Value (max 255)\n",
    "\n",
    "    return lower_hsv, upper_hsv"
   ]
  },
  {
   "cell_type": "markdown",
   "id": "f915dff7-3480-4987-aeaf-6e03552a2012",
   "metadata": {},
   "source": [
    "**Understanding HSV Range for Color Detection**  \n",
    "\n",
    "When detecting a color, we define an **acceptable range** around its **Hue (H), Saturation (S), and Value (V)** to improve accuracy.  \n",
    "\n",
    "**1️⃣ Hue (H)**  \n",
    "- `h - hue_range` → Allows similar hues **before** the actual color.  \n",
    "- `h + hue_range` → Allows similar hues **after** the actual color.  \n",
    "- `max(..., 0)` → Prevents negative values (**Hue range: 0–179 in OpenCV**).  \n",
    "- `min(..., 179)` → Ensures Hue does not exceed **179**.  \n",
    "\n",
    "**2️⃣ Saturation (S) and Value (V)**  \n",
    "- A small range (`sat_range`, `val_range`) is added/subtracted to detect colors even if they are **slightly desaturated or darker**.  \n",
    "- `max(..., 0)` → Prevents negative values.  \n",
    "- `min(..., 255)` → Ensures values do not exceed **255**.  \n",
    "\n",
    "By defining these upper and lower HSV limits, we can **reliably detect a color** even under varying lighting conditions."
   ]
  },
  {
   "cell_type": "code",
   "execution_count": 3,
   "id": "30d3a840-c1da-41fc-b8de-37fa3d2feb83",
   "metadata": {},
   "outputs": [],
   "source": [
    "given_color = [192, 00, 0]    # blue in BGR colorspace"
   ]
  },
  {
   "cell_type": "code",
   "execution_count": 4,
   "id": "b394c05f-bcf0-4529-a00f-106361a20161",
   "metadata": {},
   "outputs": [],
   "source": [
    "vid = cv2.VideoCapture(0)\n",
    "\n",
    "while True:\n",
    "    ret, frame = vid.read()         # reads and returns frame, and gives ret as True if frame is read correctly or False if not read.\n",
    "\n",
    "    hsv_frame = cv2.cvtColor(frame, cv2.COLOR_BGR2HSV)     # Converts the frame from BGR to HSV image.\n",
    "\n",
    "    lower_limit, upper_limit = get_limit(bgr_color = given_color)      # Gets the limits from the function defined above.\n",
    "\n",
    "    mask = cv2.inRange(hsv_frame, lower_limit, upper_limit)      # .inRange() is used to create a binary mask based on a given color range.\n",
    "\n",
    "    mask_ = Image.fromarray(mask)      #  .fromarray() function in PIL is used to convert a NumPy array(OpenCV binary mask) into a Pillow Image object.\n",
    "\n",
    "    box = mask_.getbbox()       # .getbbox() method in PIL (Pillow) is used to find the bounding box of non-zero (non-black) pixels in an image.\n",
    "\n",
    "    if box is not None:\n",
    "        x1, y1, x2, y2 = box    # Unpacks the bounding box coordinates (top-left and bottom-right corners).\n",
    "\n",
    "        frame = cv2.rectangle(frame, (x1, y1), (x2, y2), (0, 255, 0), 5)   # Draws a green rectangle around the detected object.\n",
    "    \n",
    "    cv2.imshow('Color Detection Webcam', frame)      # Displays the processed video frame in a window named \"Color Detection Webcam\".\n",
    "    if cv2.waitKey(1) & 0xFF == ord('q'):           # Waits for a key press for 1 millisecond and checks if the 'q' key was pressed. \n",
    "        break                                       # If 'q' is pressed, loop terminates/break.\n",
    "\n",
    "vid.release()\n",
    "cv2.destroyAllWindows()"
   ]
  },
  {
   "cell_type": "markdown",
   "id": "7ebe07f9-c9d1-4760-83d0-aa6433526d43",
   "metadata": {},
   "source": [
    "**Syntax:** .inRange(src, lowerb, upperb), Parameters:\n",
    "\n",
    "**src:** The source image (typically in HSV or grayscale format).\n",
    "**lowerb:** The lower bound of the color range.\n",
    "**upperb:** The upper bound of the color range.\n",
    "\n",
    "Every pixel in src that falls within the range [lowerb, upperb] is set to 255 (white) in mask.\n",
    "All other pixels are set to 0 (black).\n",
    "\n",
    "**Syntax:** box = image.getbbox()\n",
    "\n",
    "**How It Works?**\n",
    "It scans the image and finds the smallest bounding box (rectangle) that contains all the non-black (non-zero) pixels.\n",
    "If the image is completely black, it returns None."
   ]
  },
  {
   "cell_type": "code",
   "execution_count": null,
   "id": "755082b6-fdd0-4fcc-a032-c219e7fc9acc",
   "metadata": {},
   "outputs": [],
   "source": []
  }
 ],
 "metadata": {
  "kernelspec": {
   "display_name": "Python 3 (ipykernel)",
   "language": "python",
   "name": "python3"
  },
  "language_info": {
   "codemirror_mode": {
    "name": "ipython",
    "version": 3
   },
   "file_extension": ".py",
   "mimetype": "text/x-python",
   "name": "python",
   "nbconvert_exporter": "python",
   "pygments_lexer": "ipython3",
   "version": "3.12.7"
  }
 },
 "nbformat": 4,
 "nbformat_minor": 5
}
