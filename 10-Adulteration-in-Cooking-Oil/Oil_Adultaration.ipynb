{
 "cells": [
  {
   "cell_type": "code",
   "execution_count": 26,
   "id": "c5e35d4a",
   "metadata": {},
   "outputs": [],
   "source": [
    "import pandas as pd\n",
    "import numpy as np"
   ]
  },
  {
   "cell_type": "code",
   "execution_count": 2,
   "id": "11c0e50e",
   "metadata": {},
   "outputs": [
    {
     "data": {
      "text/html": [
       "<div>\n",
       "<style scoped>\n",
       "    .dataframe tbody tr th:only-of-type {\n",
       "        vertical-align: middle;\n",
       "    }\n",
       "\n",
       "    .dataframe tbody tr th {\n",
       "        vertical-align: top;\n",
       "    }\n",
       "\n",
       "    .dataframe thead th {\n",
       "        text-align: right;\n",
       "    }\n",
       "</style>\n",
       "<table border=\"1\" class=\"dataframe\">\n",
       "  <thead>\n",
       "    <tr style=\"text-align: right;\">\n",
       "      <th></th>\n",
       "      <th>Wavelength</th>\n",
       "      <th>5.5</th>\n",
       "      <th>5.54257822</th>\n",
       "      <th>5.585156441</th>\n",
       "      <th>5.627734184</th>\n",
       "      <th>5.670312405</th>\n",
       "      <th>5.712890625</th>\n",
       "      <th>5.755468845</th>\n",
       "      <th>5.798047066</th>\n",
       "      <th>5.840624809</th>\n",
       "      <th>...</th>\n",
       "      <th>10.56679726</th>\n",
       "      <th>10.609375</th>\n",
       "      <th>10.65195274</th>\n",
       "      <th>10.69453144</th>\n",
       "      <th>10.73710918</th>\n",
       "      <th>10.77968788</th>\n",
       "      <th>10.82226563</th>\n",
       "      <th>10.86484337</th>\n",
       "      <th>10.90742207</th>\n",
       "      <th>target</th>\n",
       "    </tr>\n",
       "  </thead>\n",
       "  <tbody>\n",
       "    <tr>\n",
       "      <th>0</th>\n",
       "      <td>Groundnut oil</td>\n",
       "      <td>2.020024</td>\n",
       "      <td>1.897195</td>\n",
       "      <td>1.804073</td>\n",
       "      <td>1.751410</td>\n",
       "      <td>1.725490</td>\n",
       "      <td>1.727578</td>\n",
       "      <td>1.767445</td>\n",
       "      <td>1.917143</td>\n",
       "      <td>2.129314</td>\n",
       "      <td>...</td>\n",
       "      <td>2.026837</td>\n",
       "      <td>2.058163</td>\n",
       "      <td>2.132128</td>\n",
       "      <td>2.194023</td>\n",
       "      <td>2.266592</td>\n",
       "      <td>2.300491</td>\n",
       "      <td>2.324204</td>\n",
       "      <td>2.400116</td>\n",
       "      <td>2.399704</td>\n",
       "      <td>pure</td>\n",
       "    </tr>\n",
       "    <tr>\n",
       "      <th>1</th>\n",
       "      <td>Groundnut oil</td>\n",
       "      <td>2.022989</td>\n",
       "      <td>1.898726</td>\n",
       "      <td>1.799529</td>\n",
       "      <td>1.750811</td>\n",
       "      <td>1.726738</td>\n",
       "      <td>1.721409</td>\n",
       "      <td>1.773551</td>\n",
       "      <td>1.906135</td>\n",
       "      <td>2.117890</td>\n",
       "      <td>...</td>\n",
       "      <td>2.019563</td>\n",
       "      <td>2.062350</td>\n",
       "      <td>2.120197</td>\n",
       "      <td>2.195448</td>\n",
       "      <td>2.226725</td>\n",
       "      <td>2.340945</td>\n",
       "      <td>2.353859</td>\n",
       "      <td>2.377643</td>\n",
       "      <td>2.424371</td>\n",
       "      <td>pure</td>\n",
       "    </tr>\n",
       "    <tr>\n",
       "      <th>2</th>\n",
       "      <td>Groundnut oil</td>\n",
       "      <td>2.019062</td>\n",
       "      <td>1.900051</td>\n",
       "      <td>1.803404</td>\n",
       "      <td>1.755928</td>\n",
       "      <td>1.721422</td>\n",
       "      <td>1.725233</td>\n",
       "      <td>1.762872</td>\n",
       "      <td>1.908357</td>\n",
       "      <td>2.114930</td>\n",
       "      <td>...</td>\n",
       "      <td>2.034851</td>\n",
       "      <td>2.077438</td>\n",
       "      <td>2.122133</td>\n",
       "      <td>2.160211</td>\n",
       "      <td>2.244349</td>\n",
       "      <td>2.310841</td>\n",
       "      <td>2.323066</td>\n",
       "      <td>2.414732</td>\n",
       "      <td>2.418785</td>\n",
       "      <td>pure</td>\n",
       "    </tr>\n",
       "    <tr>\n",
       "      <th>3</th>\n",
       "      <td>Groundnut oil</td>\n",
       "      <td>2.025386</td>\n",
       "      <td>1.895227</td>\n",
       "      <td>1.795509</td>\n",
       "      <td>1.755136</td>\n",
       "      <td>1.726639</td>\n",
       "      <td>1.725844</td>\n",
       "      <td>1.765594</td>\n",
       "      <td>1.909788</td>\n",
       "      <td>2.123047</td>\n",
       "      <td>...</td>\n",
       "      <td>2.034296</td>\n",
       "      <td>2.064291</td>\n",
       "      <td>2.133379</td>\n",
       "      <td>2.154075</td>\n",
       "      <td>2.234382</td>\n",
       "      <td>2.301836</td>\n",
       "      <td>2.328937</td>\n",
       "      <td>2.402652</td>\n",
       "      <td>2.452618</td>\n",
       "      <td>pure</td>\n",
       "    </tr>\n",
       "    <tr>\n",
       "      <th>4</th>\n",
       "      <td>Groundnut oil</td>\n",
       "      <td>2.034537</td>\n",
       "      <td>1.896006</td>\n",
       "      <td>1.805834</td>\n",
       "      <td>1.753776</td>\n",
       "      <td>1.727767</td>\n",
       "      <td>1.736720</td>\n",
       "      <td>1.769863</td>\n",
       "      <td>1.912191</td>\n",
       "      <td>2.122135</td>\n",
       "      <td>...</td>\n",
       "      <td>2.033153</td>\n",
       "      <td>2.065837</td>\n",
       "      <td>2.120147</td>\n",
       "      <td>2.166024</td>\n",
       "      <td>2.254359</td>\n",
       "      <td>2.326431</td>\n",
       "      <td>2.317235</td>\n",
       "      <td>2.394659</td>\n",
       "      <td>2.455821</td>\n",
       "      <td>pure</td>\n",
       "    </tr>\n",
       "  </tbody>\n",
       "</table>\n",
       "<p>5 rows × 130 columns</p>\n",
       "</div>"
      ],
      "text/plain": [
       "      Wavelength       5.5  5.54257822  5.585156441  5.627734184  5.670312405  \\\n",
       "0  Groundnut oil  2.020024    1.897195     1.804073     1.751410     1.725490   \n",
       "1  Groundnut oil  2.022989    1.898726     1.799529     1.750811     1.726738   \n",
       "2  Groundnut oil  2.019062    1.900051     1.803404     1.755928     1.721422   \n",
       "3  Groundnut oil  2.025386    1.895227     1.795509     1.755136     1.726639   \n",
       "4  Groundnut oil  2.034537    1.896006     1.805834     1.753776     1.727767   \n",
       "\n",
       "   5.712890625  5.755468845  5.798047066  5.840624809  ...  10.56679726  \\\n",
       "0     1.727578     1.767445     1.917143     2.129314  ...     2.026837   \n",
       "1     1.721409     1.773551     1.906135     2.117890  ...     2.019563   \n",
       "2     1.725233     1.762872     1.908357     2.114930  ...     2.034851   \n",
       "3     1.725844     1.765594     1.909788     2.123047  ...     2.034296   \n",
       "4     1.736720     1.769863     1.912191     2.122135  ...     2.033153   \n",
       "\n",
       "   10.609375  10.65195274  10.69453144  10.73710918  10.77968788  10.82226563  \\\n",
       "0   2.058163     2.132128     2.194023     2.266592     2.300491     2.324204   \n",
       "1   2.062350     2.120197     2.195448     2.226725     2.340945     2.353859   \n",
       "2   2.077438     2.122133     2.160211     2.244349     2.310841     2.323066   \n",
       "3   2.064291     2.133379     2.154075     2.234382     2.301836     2.328937   \n",
       "4   2.065837     2.120147     2.166024     2.254359     2.326431     2.317235   \n",
       "\n",
       "   10.86484337  10.90742207  target  \n",
       "0     2.400116     2.399704    pure  \n",
       "1     2.377643     2.424371    pure  \n",
       "2     2.414732     2.418785    pure  \n",
       "3     2.402652     2.452618    pure  \n",
       "4     2.394659     2.455821    pure  \n",
       "\n",
       "[5 rows x 130 columns]"
      ]
     },
     "execution_count": 2,
     "metadata": {},
     "output_type": "execute_result"
    }
   ],
   "source": [
    "data = pd.read_csv('Groundnut Oil Adulteration.csv')\n",
    "data.head()"
   ]
  },
  {
   "cell_type": "markdown",
   "id": "5d5b279c",
   "metadata": {},
   "source": [
    "## DATA PREPROCCESING:"
   ]
  },
  {
   "cell_type": "code",
   "execution_count": 3,
   "id": "e7c5d373",
   "metadata": {},
   "outputs": [
    {
     "name": "stdout",
     "output_type": "stream",
     "text": [
      "Data information:\n",
      "<class 'pandas.core.frame.DataFrame'>\n",
      "RangeIndex: 160 entries, 0 to 159\n",
      "Columns: 130 entries, Wavelength to target\n",
      "dtypes: float64(128), object(2)\n",
      "memory usage: 162.6+ KB\n"
     ]
    }
   ],
   "source": [
    "print('Data information:')\n",
    "data.info()"
   ]
  },
  {
   "cell_type": "code",
   "execution_count": 4,
   "id": "9ff11340",
   "metadata": {},
   "outputs": [
    {
     "name": "stdout",
     "output_type": "stream",
     "text": [
      "The order of the dataset is:  (160, 130)\n"
     ]
    }
   ],
   "source": [
    "print('The order of the dataset is: ', data.shape)"
   ]
  },
  {
   "cell_type": "code",
   "execution_count": 5,
   "id": "a68259d1",
   "metadata": {},
   "outputs": [
    {
     "name": "stdout",
     "output_type": "stream",
     "text": [
      "Checking for any null value in the dataset:  Wavelength     0\n",
      "5.5            0\n",
      "5.54257822     0\n",
      "5.585156441    0\n",
      "5.627734184    0\n",
      "              ..\n",
      "10.77968788    0\n",
      "10.82226563    0\n",
      "10.86484337    0\n",
      "10.90742207    0\n",
      "target         0\n",
      "Length: 130, dtype: int64\n"
     ]
    }
   ],
   "source": [
    "print('Checking for any null value in the dataset: ', data.isnull().sum())"
   ]
  },
  {
   "cell_type": "markdown",
   "id": "471f106d",
   "metadata": {},
   "source": [
    "### Encoding the categorical data:"
   ]
  },
  {
   "cell_type": "code",
   "execution_count": 6,
   "id": "83cc8992",
   "metadata": {},
   "outputs": [
    {
     "name": "stderr",
     "output_type": "stream",
     "text": [
      "C:\\Users\\HARSH\\AppData\\Local\\Temp\\ipykernel_24204\\694162586.py:1: FutureWarning: Downcasting behavior in `replace` is deprecated and will be removed in a future version. To retain the old behavior, explicitly call `result.infer_objects(copy=False)`. To opt-in to the future behavior, set `pd.set_option('future.no_silent_downcasting', True)`\n",
      "  oil_data = data.replace({'target': {'pure': 0, '25% adulteration': 1, '50% adulteration': 2, '6.25% adulteration': 3}})\n"
     ]
    }
   ],
   "source": [
    "oil_data = data.replace({'target': {'pure': 0, '25% adulteration': 1, '50% adulteration': 2, '6.25% adulteration': 3}})"
   ]
  },
  {
   "cell_type": "code",
   "execution_count": 7,
   "id": "22d627af",
   "metadata": {},
   "outputs": [
    {
     "data": {
      "text/html": [
       "<div>\n",
       "<style scoped>\n",
       "    .dataframe tbody tr th:only-of-type {\n",
       "        vertical-align: middle;\n",
       "    }\n",
       "\n",
       "    .dataframe tbody tr th {\n",
       "        vertical-align: top;\n",
       "    }\n",
       "\n",
       "    .dataframe thead th {\n",
       "        text-align: right;\n",
       "    }\n",
       "</style>\n",
       "<table border=\"1\" class=\"dataframe\">\n",
       "  <thead>\n",
       "    <tr style=\"text-align: right;\">\n",
       "      <th></th>\n",
       "      <th>Wavelength</th>\n",
       "      <th>5.5</th>\n",
       "      <th>5.54257822</th>\n",
       "      <th>5.585156441</th>\n",
       "      <th>5.627734184</th>\n",
       "      <th>5.670312405</th>\n",
       "      <th>5.712890625</th>\n",
       "      <th>5.755468845</th>\n",
       "      <th>5.798047066</th>\n",
       "      <th>5.840624809</th>\n",
       "      <th>...</th>\n",
       "      <th>10.56679726</th>\n",
       "      <th>10.609375</th>\n",
       "      <th>10.65195274</th>\n",
       "      <th>10.69453144</th>\n",
       "      <th>10.73710918</th>\n",
       "      <th>10.77968788</th>\n",
       "      <th>10.82226563</th>\n",
       "      <th>10.86484337</th>\n",
       "      <th>10.90742207</th>\n",
       "      <th>target</th>\n",
       "    </tr>\n",
       "  </thead>\n",
       "  <tbody>\n",
       "    <tr>\n",
       "      <th>0</th>\n",
       "      <td>Groundnut oil</td>\n",
       "      <td>2.020024</td>\n",
       "      <td>1.897195</td>\n",
       "      <td>1.804073</td>\n",
       "      <td>1.751410</td>\n",
       "      <td>1.725490</td>\n",
       "      <td>1.727578</td>\n",
       "      <td>1.767445</td>\n",
       "      <td>1.917143</td>\n",
       "      <td>2.129314</td>\n",
       "      <td>...</td>\n",
       "      <td>2.026837</td>\n",
       "      <td>2.058163</td>\n",
       "      <td>2.132128</td>\n",
       "      <td>2.194023</td>\n",
       "      <td>2.266592</td>\n",
       "      <td>2.300491</td>\n",
       "      <td>2.324204</td>\n",
       "      <td>2.400116</td>\n",
       "      <td>2.399704</td>\n",
       "      <td>0</td>\n",
       "    </tr>\n",
       "    <tr>\n",
       "      <th>1</th>\n",
       "      <td>Groundnut oil</td>\n",
       "      <td>2.022989</td>\n",
       "      <td>1.898726</td>\n",
       "      <td>1.799529</td>\n",
       "      <td>1.750811</td>\n",
       "      <td>1.726738</td>\n",
       "      <td>1.721409</td>\n",
       "      <td>1.773551</td>\n",
       "      <td>1.906135</td>\n",
       "      <td>2.117890</td>\n",
       "      <td>...</td>\n",
       "      <td>2.019563</td>\n",
       "      <td>2.062350</td>\n",
       "      <td>2.120197</td>\n",
       "      <td>2.195448</td>\n",
       "      <td>2.226725</td>\n",
       "      <td>2.340945</td>\n",
       "      <td>2.353859</td>\n",
       "      <td>2.377643</td>\n",
       "      <td>2.424371</td>\n",
       "      <td>0</td>\n",
       "    </tr>\n",
       "    <tr>\n",
       "      <th>2</th>\n",
       "      <td>Groundnut oil</td>\n",
       "      <td>2.019062</td>\n",
       "      <td>1.900051</td>\n",
       "      <td>1.803404</td>\n",
       "      <td>1.755928</td>\n",
       "      <td>1.721422</td>\n",
       "      <td>1.725233</td>\n",
       "      <td>1.762872</td>\n",
       "      <td>1.908357</td>\n",
       "      <td>2.114930</td>\n",
       "      <td>...</td>\n",
       "      <td>2.034851</td>\n",
       "      <td>2.077438</td>\n",
       "      <td>2.122133</td>\n",
       "      <td>2.160211</td>\n",
       "      <td>2.244349</td>\n",
       "      <td>2.310841</td>\n",
       "      <td>2.323066</td>\n",
       "      <td>2.414732</td>\n",
       "      <td>2.418785</td>\n",
       "      <td>0</td>\n",
       "    </tr>\n",
       "    <tr>\n",
       "      <th>3</th>\n",
       "      <td>Groundnut oil</td>\n",
       "      <td>2.025386</td>\n",
       "      <td>1.895227</td>\n",
       "      <td>1.795509</td>\n",
       "      <td>1.755136</td>\n",
       "      <td>1.726639</td>\n",
       "      <td>1.725844</td>\n",
       "      <td>1.765594</td>\n",
       "      <td>1.909788</td>\n",
       "      <td>2.123047</td>\n",
       "      <td>...</td>\n",
       "      <td>2.034296</td>\n",
       "      <td>2.064291</td>\n",
       "      <td>2.133379</td>\n",
       "      <td>2.154075</td>\n",
       "      <td>2.234382</td>\n",
       "      <td>2.301836</td>\n",
       "      <td>2.328937</td>\n",
       "      <td>2.402652</td>\n",
       "      <td>2.452618</td>\n",
       "      <td>0</td>\n",
       "    </tr>\n",
       "    <tr>\n",
       "      <th>4</th>\n",
       "      <td>Groundnut oil</td>\n",
       "      <td>2.034537</td>\n",
       "      <td>1.896006</td>\n",
       "      <td>1.805834</td>\n",
       "      <td>1.753776</td>\n",
       "      <td>1.727767</td>\n",
       "      <td>1.736720</td>\n",
       "      <td>1.769863</td>\n",
       "      <td>1.912191</td>\n",
       "      <td>2.122135</td>\n",
       "      <td>...</td>\n",
       "      <td>2.033153</td>\n",
       "      <td>2.065837</td>\n",
       "      <td>2.120147</td>\n",
       "      <td>2.166024</td>\n",
       "      <td>2.254359</td>\n",
       "      <td>2.326431</td>\n",
       "      <td>2.317235</td>\n",
       "      <td>2.394659</td>\n",
       "      <td>2.455821</td>\n",
       "      <td>0</td>\n",
       "    </tr>\n",
       "  </tbody>\n",
       "</table>\n",
       "<p>5 rows × 130 columns</p>\n",
       "</div>"
      ],
      "text/plain": [
       "      Wavelength       5.5  5.54257822  5.585156441  5.627734184  5.670312405  \\\n",
       "0  Groundnut oil  2.020024    1.897195     1.804073     1.751410     1.725490   \n",
       "1  Groundnut oil  2.022989    1.898726     1.799529     1.750811     1.726738   \n",
       "2  Groundnut oil  2.019062    1.900051     1.803404     1.755928     1.721422   \n",
       "3  Groundnut oil  2.025386    1.895227     1.795509     1.755136     1.726639   \n",
       "4  Groundnut oil  2.034537    1.896006     1.805834     1.753776     1.727767   \n",
       "\n",
       "   5.712890625  5.755468845  5.798047066  5.840624809  ...  10.56679726  \\\n",
       "0     1.727578     1.767445     1.917143     2.129314  ...     2.026837   \n",
       "1     1.721409     1.773551     1.906135     2.117890  ...     2.019563   \n",
       "2     1.725233     1.762872     1.908357     2.114930  ...     2.034851   \n",
       "3     1.725844     1.765594     1.909788     2.123047  ...     2.034296   \n",
       "4     1.736720     1.769863     1.912191     2.122135  ...     2.033153   \n",
       "\n",
       "   10.609375  10.65195274  10.69453144  10.73710918  10.77968788  10.82226563  \\\n",
       "0   2.058163     2.132128     2.194023     2.266592     2.300491     2.324204   \n",
       "1   2.062350     2.120197     2.195448     2.226725     2.340945     2.353859   \n",
       "2   2.077438     2.122133     2.160211     2.244349     2.310841     2.323066   \n",
       "3   2.064291     2.133379     2.154075     2.234382     2.301836     2.328937   \n",
       "4   2.065837     2.120147     2.166024     2.254359     2.326431     2.317235   \n",
       "\n",
       "   10.86484337  10.90742207  target  \n",
       "0     2.400116     2.399704       0  \n",
       "1     2.377643     2.424371       0  \n",
       "2     2.414732     2.418785       0  \n",
       "3     2.402652     2.452618       0  \n",
       "4     2.394659     2.455821       0  \n",
       "\n",
       "[5 rows x 130 columns]"
      ]
     },
     "execution_count": 7,
     "metadata": {},
     "output_type": "execute_result"
    }
   ],
   "source": [
    "oil_data.head()"
   ]
  },
  {
   "cell_type": "code",
   "execution_count": 8,
   "id": "7c5c4c77",
   "metadata": {},
   "outputs": [
    {
     "data": {
      "text/html": [
       "<div>\n",
       "<style scoped>\n",
       "    .dataframe tbody tr th:only-of-type {\n",
       "        vertical-align: middle;\n",
       "    }\n",
       "\n",
       "    .dataframe tbody tr th {\n",
       "        vertical-align: top;\n",
       "    }\n",
       "\n",
       "    .dataframe thead th {\n",
       "        text-align: right;\n",
       "    }\n",
       "</style>\n",
       "<table border=\"1\" class=\"dataframe\">\n",
       "  <thead>\n",
       "    <tr style=\"text-align: right;\">\n",
       "      <th></th>\n",
       "      <th>Wavelength</th>\n",
       "      <th>5.5</th>\n",
       "      <th>5.54257822</th>\n",
       "      <th>5.585156441</th>\n",
       "      <th>5.627734184</th>\n",
       "      <th>5.670312405</th>\n",
       "      <th>5.712890625</th>\n",
       "      <th>5.755468845</th>\n",
       "      <th>5.798047066</th>\n",
       "      <th>5.840624809</th>\n",
       "      <th>...</th>\n",
       "      <th>10.56679726</th>\n",
       "      <th>10.609375</th>\n",
       "      <th>10.65195274</th>\n",
       "      <th>10.69453144</th>\n",
       "      <th>10.73710918</th>\n",
       "      <th>10.77968788</th>\n",
       "      <th>10.82226563</th>\n",
       "      <th>10.86484337</th>\n",
       "      <th>10.90742207</th>\n",
       "      <th>target</th>\n",
       "    </tr>\n",
       "  </thead>\n",
       "  <tbody>\n",
       "    <tr>\n",
       "      <th>155</th>\n",
       "      <td>Palm oil 6.25 percent in ground nut  oil</td>\n",
       "      <td>2.033678</td>\n",
       "      <td>1.903123</td>\n",
       "      <td>1.818842</td>\n",
       "      <td>1.757973</td>\n",
       "      <td>1.732126</td>\n",
       "      <td>1.735137</td>\n",
       "      <td>1.803452</td>\n",
       "      <td>1.966257</td>\n",
       "      <td>2.169004</td>\n",
       "      <td>...</td>\n",
       "      <td>2.010386</td>\n",
       "      <td>2.096940</td>\n",
       "      <td>2.175156</td>\n",
       "      <td>2.201377</td>\n",
       "      <td>2.226714</td>\n",
       "      <td>2.303161</td>\n",
       "      <td>2.352681</td>\n",
       "      <td>2.358471</td>\n",
       "      <td>2.400847</td>\n",
       "      <td>3</td>\n",
       "    </tr>\n",
       "    <tr>\n",
       "      <th>156</th>\n",
       "      <td>Palm oil 6.25 percent in ground nut  oil</td>\n",
       "      <td>2.008995</td>\n",
       "      <td>1.888104</td>\n",
       "      <td>1.814074</td>\n",
       "      <td>1.754652</td>\n",
       "      <td>1.729198</td>\n",
       "      <td>1.731060</td>\n",
       "      <td>1.809776</td>\n",
       "      <td>1.955212</td>\n",
       "      <td>2.153998</td>\n",
       "      <td>...</td>\n",
       "      <td>2.013849</td>\n",
       "      <td>2.099672</td>\n",
       "      <td>2.133444</td>\n",
       "      <td>2.189585</td>\n",
       "      <td>2.218081</td>\n",
       "      <td>2.268254</td>\n",
       "      <td>2.363536</td>\n",
       "      <td>2.365785</td>\n",
       "      <td>2.399754</td>\n",
       "      <td>3</td>\n",
       "    </tr>\n",
       "    <tr>\n",
       "      <th>157</th>\n",
       "      <td>Palm oil 6.25 percent in ground nut  oil</td>\n",
       "      <td>2.017214</td>\n",
       "      <td>1.918658</td>\n",
       "      <td>1.831621</td>\n",
       "      <td>1.778486</td>\n",
       "      <td>1.740518</td>\n",
       "      <td>1.741276</td>\n",
       "      <td>1.826388</td>\n",
       "      <td>1.976404</td>\n",
       "      <td>2.169632</td>\n",
       "      <td>...</td>\n",
       "      <td>2.013990</td>\n",
       "      <td>2.110365</td>\n",
       "      <td>2.154913</td>\n",
       "      <td>2.170354</td>\n",
       "      <td>2.218543</td>\n",
       "      <td>2.316280</td>\n",
       "      <td>2.381214</td>\n",
       "      <td>2.355883</td>\n",
       "      <td>2.389034</td>\n",
       "      <td>3</td>\n",
       "    </tr>\n",
       "    <tr>\n",
       "      <th>158</th>\n",
       "      <td>Palm oil 6.25 percent in ground nut  oil</td>\n",
       "      <td>2.034693</td>\n",
       "      <td>1.906483</td>\n",
       "      <td>1.825587</td>\n",
       "      <td>1.773978</td>\n",
       "      <td>1.739729</td>\n",
       "      <td>1.737467</td>\n",
       "      <td>1.816627</td>\n",
       "      <td>1.967925</td>\n",
       "      <td>2.174310</td>\n",
       "      <td>...</td>\n",
       "      <td>2.030570</td>\n",
       "      <td>2.103126</td>\n",
       "      <td>2.144357</td>\n",
       "      <td>2.158837</td>\n",
       "      <td>2.203312</td>\n",
       "      <td>2.303931</td>\n",
       "      <td>2.349199</td>\n",
       "      <td>2.386188</td>\n",
       "      <td>2.386349</td>\n",
       "      <td>3</td>\n",
       "    </tr>\n",
       "    <tr>\n",
       "      <th>159</th>\n",
       "      <td>Palm oil 6.25 percent in ground nut  oil</td>\n",
       "      <td>2.020671</td>\n",
       "      <td>1.906864</td>\n",
       "      <td>1.827166</td>\n",
       "      <td>1.776070</td>\n",
       "      <td>1.731901</td>\n",
       "      <td>1.737921</td>\n",
       "      <td>1.813202</td>\n",
       "      <td>1.962106</td>\n",
       "      <td>2.174002</td>\n",
       "      <td>...</td>\n",
       "      <td>2.018006</td>\n",
       "      <td>2.086231</td>\n",
       "      <td>2.133689</td>\n",
       "      <td>2.178800</td>\n",
       "      <td>2.190736</td>\n",
       "      <td>2.276988</td>\n",
       "      <td>2.356023</td>\n",
       "      <td>2.347481</td>\n",
       "      <td>2.389135</td>\n",
       "      <td>3</td>\n",
       "    </tr>\n",
       "  </tbody>\n",
       "</table>\n",
       "<p>5 rows × 130 columns</p>\n",
       "</div>"
      ],
      "text/plain": [
       "                                   Wavelength       5.5  5.54257822  \\\n",
       "155  Palm oil 6.25 percent in ground nut  oil  2.033678    1.903123   \n",
       "156  Palm oil 6.25 percent in ground nut  oil  2.008995    1.888104   \n",
       "157  Palm oil 6.25 percent in ground nut  oil  2.017214    1.918658   \n",
       "158  Palm oil 6.25 percent in ground nut  oil  2.034693    1.906483   \n",
       "159  Palm oil 6.25 percent in ground nut  oil  2.020671    1.906864   \n",
       "\n",
       "     5.585156441  5.627734184  5.670312405  5.712890625  5.755468845  \\\n",
       "155     1.818842     1.757973     1.732126     1.735137     1.803452   \n",
       "156     1.814074     1.754652     1.729198     1.731060     1.809776   \n",
       "157     1.831621     1.778486     1.740518     1.741276     1.826388   \n",
       "158     1.825587     1.773978     1.739729     1.737467     1.816627   \n",
       "159     1.827166     1.776070     1.731901     1.737921     1.813202   \n",
       "\n",
       "     5.798047066  5.840624809  ...  10.56679726  10.609375  10.65195274  \\\n",
       "155     1.966257     2.169004  ...     2.010386   2.096940     2.175156   \n",
       "156     1.955212     2.153998  ...     2.013849   2.099672     2.133444   \n",
       "157     1.976404     2.169632  ...     2.013990   2.110365     2.154913   \n",
       "158     1.967925     2.174310  ...     2.030570   2.103126     2.144357   \n",
       "159     1.962106     2.174002  ...     2.018006   2.086231     2.133689   \n",
       "\n",
       "     10.69453144  10.73710918  10.77968788  10.82226563  10.86484337  \\\n",
       "155     2.201377     2.226714     2.303161     2.352681     2.358471   \n",
       "156     2.189585     2.218081     2.268254     2.363536     2.365785   \n",
       "157     2.170354     2.218543     2.316280     2.381214     2.355883   \n",
       "158     2.158837     2.203312     2.303931     2.349199     2.386188   \n",
       "159     2.178800     2.190736     2.276988     2.356023     2.347481   \n",
       "\n",
       "     10.90742207  target  \n",
       "155     2.400847       3  \n",
       "156     2.399754       3  \n",
       "157     2.389034       3  \n",
       "158     2.386349       3  \n",
       "159     2.389135       3  \n",
       "\n",
       "[5 rows x 130 columns]"
      ]
     },
     "execution_count": 8,
     "metadata": {},
     "output_type": "execute_result"
    }
   ],
   "source": [
    "oil_data.tail()"
   ]
  },
  {
   "cell_type": "markdown",
   "id": "2a44503e",
   "metadata": {},
   "source": [
    "## SPLITTING DATASET INTO TRAINING AND TESTING SETS:"
   ]
  },
  {
   "cell_type": "code",
   "execution_count": 9,
   "id": "98711a57",
   "metadata": {},
   "outputs": [],
   "source": [
    "x = data.drop(['Wavelength', 'target'], axis=1)\n",
    "y = data['target']"
   ]
  },
  {
   "cell_type": "code",
   "execution_count": 10,
   "id": "2f4883be",
   "metadata": {},
   "outputs": [],
   "source": [
    "from sklearn.model_selection import train_test_split"
   ]
  },
  {
   "cell_type": "code",
   "execution_count": 11,
   "id": "bd9e3238",
   "metadata": {},
   "outputs": [],
   "source": [
    "x_train, x_test, y_train, y_test = train_test_split(x, y, test_size=0.3, random_state=42)"
   ]
  },
  {
   "cell_type": "markdown",
   "id": "8abedf32",
   "metadata": {},
   "source": [
    "## LOGISTIC REGRESSION MODEL:"
   ]
  },
  {
   "cell_type": "code",
   "execution_count": 12,
   "id": "f07fedbc",
   "metadata": {},
   "outputs": [],
   "source": [
    "from sklearn.linear_model import LogisticRegression"
   ]
  },
  {
   "cell_type": "code",
   "execution_count": 13,
   "id": "d76e2f1f",
   "metadata": {},
   "outputs": [
    {
     "name": "stderr",
     "output_type": "stream",
     "text": [
      "C:\\Users\\HARSH\\OneDrive\\Documents\\Anaconda\\Lib\\site-packages\\sklearn\\linear_model\\_logistic.py:469: ConvergenceWarning: lbfgs failed to converge (status=1):\n",
      "STOP: TOTAL NO. of ITERATIONS REACHED LIMIT.\n",
      "\n",
      "Increase the number of iterations (max_iter) or scale the data as shown in:\n",
      "    https://scikit-learn.org/stable/modules/preprocessing.html\n",
      "Please also refer to the documentation for alternative solver options:\n",
      "    https://scikit-learn.org/stable/modules/linear_model.html#logistic-regression\n",
      "  n_iter_i = _check_optimize_result(\n"
     ]
    }
   ],
   "source": [
    "lr = LogisticRegression(C=0.1)\n",
    "lr.fit(x_train, y_train)\n",
    "\n",
    "lr_pred = lr.predict(x_test)"
   ]
  },
  {
   "cell_type": "markdown",
   "id": "37db22f9",
   "metadata": {},
   "source": [
    "## SVM:"
   ]
  },
  {
   "cell_type": "code",
   "execution_count": 14,
   "id": "b12f2717",
   "metadata": {},
   "outputs": [],
   "source": [
    "from sklearn.svm import SVC"
   ]
  },
  {
   "cell_type": "code",
   "execution_count": 15,
   "id": "ca3b3a14",
   "metadata": {},
   "outputs": [],
   "source": [
    "sv = SVC(kernel='rbf', probability=True)\n",
    "sv.fit(x_train, y_train)\n",
    "\n",
    "sv_pred = sv.predict(x_test)"
   ]
  },
  {
   "cell_type": "markdown",
   "id": "a653f930",
   "metadata": {},
   "source": [
    "## DECISION TREE:"
   ]
  },
  {
   "cell_type": "code",
   "execution_count": 16,
   "id": "025072da",
   "metadata": {},
   "outputs": [],
   "source": [
    "from sklearn.tree import DecisionTreeClassifier"
   ]
  },
  {
   "cell_type": "code",
   "execution_count": 17,
   "id": "52d18d37",
   "metadata": {},
   "outputs": [],
   "source": [
    "tr = DecisionTreeClassifier(max_depth=2, random_state=42)\n",
    "tr.fit(x_train, y_train)\n",
    "\n",
    "tr_pred = tr.predict(x_test)"
   ]
  },
  {
   "cell_type": "markdown",
   "id": "f573d79a",
   "metadata": {},
   "source": [
    "## RANDOM FOREST:"
   ]
  },
  {
   "cell_type": "code",
   "execution_count": 18,
   "id": "52f975d6",
   "metadata": {},
   "outputs": [],
   "source": [
    "from sklearn.ensemble import RandomForestClassifier"
   ]
  },
  {
   "cell_type": "code",
   "execution_count": 19,
   "id": "900022d0",
   "metadata": {},
   "outputs": [],
   "source": [
    "rf = RandomForestClassifier(random_state=42, n_estimators=2)\n",
    "rf.fit(x_train, y_train)\n",
    "\n",
    "rf_pred = rf.predict(x_test)"
   ]
  },
  {
   "cell_type": "markdown",
   "id": "6e6ae935",
   "metadata": {},
   "source": [
    "## MODEL EVALUATION:"
   ]
  },
  {
   "cell_type": "code",
   "execution_count": 20,
   "id": "071ce57e",
   "metadata": {},
   "outputs": [],
   "source": [
    "from sklearn.metrics import accuracy_score"
   ]
  },
  {
   "cell_type": "code",
   "execution_count": 21,
   "id": "d499c7e2",
   "metadata": {},
   "outputs": [
    {
     "name": "stdout",
     "output_type": "stream",
     "text": [
      "Logistic Regression Accuracy: 0.71\n",
      "SVM Accuracy: 0.71\n",
      "Decision tree Accuracy: 0.69\n",
      "Random forest Accuracy: 0.98\n"
     ]
    }
   ],
   "source": [
    "lr_acc = accuracy_score(y_test, lr_pred)\n",
    "print(f\"Logistic Regression Accuracy: {lr_acc:.2f}\")\n",
    "\n",
    "sv_acc = accuracy_score(y_test, sv_pred)\n",
    "print(f\"SVM Accuracy: {sv_acc:.2f}\")\n",
    "\n",
    "tr_acc = accuracy_score(y_test, tr_pred)\n",
    "print(f\"Decision tree Accuracy: {tr_acc:.2f}\")\n",
    "\n",
    "rf_acc = accuracy_score(y_test, rf_pred)\n",
    "print(f\"Random forest Accuracy: {rf_acc:.2f}\")"
   ]
  },
  {
   "cell_type": "code",
   "execution_count": 22,
   "id": "a4a153e6",
   "metadata": {},
   "outputs": [
    {
     "data": {
      "image/png": "[encoded data removed]",
      "text/plain": [
       "<Figure size 640x480 with 2 Axes>"
      ]
     },
     "metadata": {},
     "output_type": "display_data"
    }
   ],
   "source": [
    "from sklearn.metrics import confusion_matrix, ConfusionMatrixDisplay\n",
    "import matplotlib.pyplot as plt\n",
    "\n",
    "cm = confusion_matrix(y_test, lr_pred)\n",
    "\n",
    "disp = ConfusionMatrixDisplay(confusion_matrix=cm)\n",
    "disp.plot(cmap=\"Blues\")\n",
    "plt.title(\"Confusion Matrix\")\n",
    "plt.show()"
   ]
  },
  {
   "cell_type": "markdown",
   "id": "9a43f06b",
   "metadata": {},
   "source": [
    "### Model Visualization:"
   ]
  },
  {
   "cell_type": "code",
   "execution_count": 23,
   "id": "8716cea6",
   "metadata": {},
   "outputs": [],
   "source": [
    "import matplotlib.pyplot as plt"
   ]
  },
  {
   "cell_type": "code",
   "execution_count": 24,
   "id": "9ea15b8b",
   "metadata": {},
   "outputs": [
    {
     "data": {
      "image/png": "[encoded data removed]",
      "text/plain": [
       "<Figure size 640x480 with 1 Axes>"
      ]
     },
     "metadata": {},
     "output_type": "display_data"
    },
    {
     "data": {
      "image/png": "[encoded data removed]",
      "text/plain": [
       "<Figure size 640x480 with 1 Axes>"
      ]
     },
     "metadata": {},
     "output_type": "display_data"
    },
    {
     "data": {
      "image/png": "[encoded data removed]",
      "text/plain": [
       "<Figure size 640x480 with 1 Axes>"
      ]
     },
     "metadata": {},
     "output_type": "display_data"
    },
    {
     "data": {
      "image/png": "[encoded data removed]",
      "text/plain": [
       "<Figure size 640x480 with 1 Axes>"
      ]
     },
     "metadata": {},
     "output_type": "display_data"
    }
   ],
   "source": [
    "plt.scatter(y_test, lr_pred)\n",
    "plt.xlabel('Actual Value')\n",
    "plt.ylabel('Predicted Value')\n",
    "plt.title('Logistic Regressor Model')\n",
    "plt.show()\n",
    "\n",
    "plt.scatter(y_test, sv_pred)\n",
    "plt.xlabel('Actual value')\n",
    "plt.ylabel('Predicted value')\n",
    "plt.title('SVM classifier Model')\n",
    "plt.show()\n",
    "\n",
    "plt.scatter(y_test, tr_pred)\n",
    "plt.xlabel('Actual value')\n",
    "plt.ylabel('Predicted value')\n",
    "plt.title('Decision tree Model')\n",
    "plt.show()\n",
    "\n",
    "plt.scatter(y_test, rf_pred)\n",
    "plt.xlabel('Actual value')\n",
    "plt.ylabel('Predicted value')\n",
    "plt.title('Random forest Model')\n",
    "plt.show()"
   ]
  },
  {
   "cell_type": "code",
   "execution_count": 28,
   "id": "83d967a7",
   "metadata": {},
   "outputs": [
    {
     "name": "stdout",
     "output_type": "stream",
     "text": [
      "Adulteration in oil: pure\n"
     ]
    },
    {
     "name": "stderr",
     "output_type": "stream",
     "text": [
      "C:\\Users\\HARSH\\OneDrive\\Documents\\Anaconda\\Lib\\site-packages\\sklearn\\base.py:493: UserWarning: X does not have valid feature names, but RandomForestClassifier was fitted with feature names\n",
      "  warnings.warn(\n"
     ]
    }
   ],
   "source": [
    "# Predicting an output using the model\n",
    "\n",
    "new_data = np.array([2.022988998, 1.898725639, 1.799529287, 1.750810652, 1.726738121, 1.721408537, 1.773550752, 1.906135167, 2.117890275, 2.40679522, 2.715893625, 3.109590786, 3.418316851, 3.744514749, 3.971279259, 4.076746289, 3.881564535, 3.709993431, 3.477024053, 3.216365542, 2.947913825, 2.710231355, 2.581350351, 2.406411351, 2.264117145, 2.146817628, 2.017413115, 1.892364652, 1.756991951, 1.635830428, 1.527894562, 1.424700099, 1.325426663, 1.249373651, 1.200492975, 1.196213355, 1.195442286, 1.200338535, 1.196192388, 1.180916233, 1.151339436, 1.155865493, 1.128609618, 1.113202582, 1.088806327, 1.080755899, 1.078798708, 1.06981176, 1.07426324, 1.053659351, 1.041522047, 1.018801055, 0.982819367, 0.954434447, 0.920170923, 0.88883693, 0.850773725, 0.821086009, 0.779186683, 0.7551572, 0.732756463, 0.714176548, 0.6886452, 0.671446694, 0.65906752, 0.622993459, 0.595884661, 0.561097051, 0.525272411, 0.498791848, 0.466633298, 0.432755624, 0.41410208, 0.411050943, 0.412876083, 0.430906996, 0.441296154, 0.469628158, 0.490256456, 0.499615822, 0.542171237, 0.568720937, 0.59820157, 0.625740859, 0.668942627, 0.70877512, 0.752957176, 0.809915119, 0.840628052, 0.906326062, 0.94500082, 1.004315716, 1.037617485, 1.08152664, 1.103127388, 1.130495302, 1.182525059, 1.181190586, 1.219398294, 1.255605357, 1.27846801, 1.297509312, 1.326200842, 1.362944891, 1.400155418, 1.424610757, 1.449821218, 1.484007108, 1.521790074, 1.552694356, 1.583241924, 1.601121546, 1.628182706, 1.640224697, 1.712645671, 1.774188292, 1.838368902, 1.873282551, 1.904812153, 2.019563112, 2.062349507, 2.120197029, 2.195447734, 2.226725125, 2.340945081, 2.353858546, 2.377643376, 2.424370788, ]\n",
    ")\n",
    "new_data = new_data.reshape(1, -1)\n",
    "\n",
    "# Predicting the selling price using the trained model\n",
    "predicted_p = rf.predict(new_data)\n",
    "\n",
    "print(f\"Adulteration in oil: {predicted_p[0]}\")"
   ]
  },
  {
   "cell_type": "code",
   "execution_count": null,
   "id": "ea976776-e46b-4986-9ca6-c5f97d0ead41",
   "metadata": {},
   "outputs": [],
   "source": []
  }
 ],
 "metadata": {
  "kernelspec": {
   "display_name": "Python 3 (ipykernel)",
   "language": "python",
   "name": "python3"
  },
  "language_info": {
   "codemirror_mode": {
    "name": "ipython",
    "version": 3
   },
   "file_extension": ".py",
   "mimetype": "text/x-python",
   "name": "python",
   "nbconvert_exporter": "python",
   "pygments_lexer": "ipython3",
   "version": "3.12.7"
  }
 },
 "nbformat": 4,
 "nbformat_minor": 5
}
